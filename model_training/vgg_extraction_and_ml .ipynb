{
 "cells": [
  {
   "cell_type": "markdown",
   "metadata": {},
   "source": [
    "# Reference Code "
   ]
  },
  {
   "cell_type": "markdown",
   "metadata": {},
   "source": [
    "#### https://youtu.be/IuoEiemAuIY\n",
    "#### https://github.com/bnsreenu/python_for_microscopists/blob/master/158b_transfer_learning_using_CNN_weights_VGG16_RF.py\n",
    "\n",
    "With reference to the code by: Sreenivas Bhattiprolu\n",
    "\n",
    "This code explains the process of using pretrained weights (VGG16) \n",
    "as feature extractors for traditional machine learning classifiers."
   ]
  },
  {
   "cell_type": "markdown",
   "metadata": {},
   "source": [
    "### VGG-16 + ML methods - Raw Images (Img 224 x 224 x 3)"
   ]
  },
  {
   "cell_type": "code",
   "execution_count": 1,
   "metadata": {},
   "outputs": [],
   "source": [
    "import numpy as np \n",
    "import matplotlib.pyplot as plt\n",
    "import glob\n",
    "import cv2\n",
    "import tensorflow.keras\n",
    "from tensorflow.keras.models import Model, Sequential\n",
    "from tensorflow.keras.layers import Dense, Flatten, Conv2D, MaxPooling2D\n",
    "#from tensorflow.keras.layers.normalization import BatchNormalization\n",
    "import os\n",
    "import seaborn as sns\n",
    "from tensorflow.keras.applications.vgg16 import VGG16\n",
    "from skimage.color import gray2rgb\n",
    "\n",
    "SIZE = 224  #Resize images\n",
    "\n",
    "# Extract the training images and labels \n",
    "data = ['C:/Users/leona/OneDrive/DSA4199/NIST-Classification/Training - Raw/Train/A/' + s for s in os.listdir('C:/Users/leona/OneDrive/DSA4199/NIST-Classification/Training - Raw/Train/A')]\n",
    "data.extend(['C:/Users/leona/OneDrive/DSA4199/NIST-Classification/Training - Raw/Train/LL/' + s for s in os.listdir('C:/Users/leona/OneDrive/DSA4199/NIST-Classification/Training - Raw/Train/LL')])\n",
    "data.extend(['C:/Users/leona/OneDrive/DSA4199/NIST-Classification/Training - Raw/Train/RL/' + s for s in os.listdir('C:/Users/leona/OneDrive/DSA4199/NIST-Classification/Training - Raw/Train/RL')])\n",
    "data.extend(['C:/Users/leona/OneDrive/DSA4199/NIST-Classification/Training - Raw/Train/TA/' + s for s in os.listdir('C:/Users/leona/OneDrive/DSA4199/NIST-Classification/Training - Raw/Train/TA')])\n",
    "data.extend(['C:/Users/leona/OneDrive/DSA4199/NIST-Classification/Training - Raw/Train/W/' + s for s in os.listdir('C:/Users/leona/OneDrive/DSA4199/NIST-Classification/Training - Raw/Train/W')])\n",
    "\n",
    "train_images = []\n",
    "for x in range(len(data)):\n",
    "    img = cv2.imread(data[x],0)\n",
    "    test = gray2rgb(img)\n",
    "    test = cv2.resize(test, (224,224), interpolation = cv2.INTER_AREA)\n",
    "    train_images.append(test)\n",
    "    \n",
    "train_labels = []\n",
    "train_labels.extend('A' for i in range(637))\n",
    "train_labels.extend('LL' for i in range(627))\n",
    "train_labels.extend('RL' for i in range(660))\n",
    "train_labels.extend('TA' for i in range(645))\n",
    "train_labels.extend('W' for i in range(630))   \n",
    "\n",
    "#Convert lists to arrays        \n",
    "train_images = np.array(train_images)\n",
    "train_labels = np.array(train_labels)\n",
    "\n",
    "# Extract the test images and labels \n",
    "datat = ['C:/Users/leona/OneDrive/DSA4199/NIST-Classification/Training - Raw/Test/A/' + s for s in os.listdir('C:/Users/leona/OneDrive/DSA4199/NIST-Classification/Training - Raw/Test/A')]\n",
    "datat.extend(['C:/Users/leona/OneDrive/DSA4199/NIST-Classification/Training - Raw/Test/LL/' + s for s in os.listdir('C:/Users/leona/OneDrive/DSA4199/NIST-Classification/Training - Raw/Test/LL')])\n",
    "datat.extend(['C:/Users/leona/OneDrive/DSA4199/NIST-Classification/Training - Raw/Test/RL/' + s for s in os.listdir('C:/Users/leona/OneDrive/DSA4199/NIST-Classification/Training - Raw/Test/RL')])\n",
    "datat.extend(['C:/Users/leona/OneDrive/DSA4199/NIST-Classification/Training - Raw/Test/TA/' + s for s in os.listdir('C:/Users/leona/OneDrive/DSA4199/NIST-Classification/Training - Raw/Test/TA')])\n",
    "datat.extend(['C:/Users/leona/OneDrive/DSA4199/NIST-Classification/Training - Raw/Test/W/' + s for s in os.listdir('C:/Users/leona/OneDrive/DSA4199/NIST-Classification/Training - Raw/Test/W')])\n",
    "\n",
    "test_images = []\n",
    "for x in range(len(datat)):\n",
    "    img = cv2.imread(datat[x],0)\n",
    "    test = gray2rgb(img)\n",
    "    test = cv2.resize(test, (224,224), interpolation = cv2.INTER_AREA)\n",
    "    test_images.append(test)\n",
    "    \n",
    "test_labels = []\n",
    "test_labels.extend('A' for i in range(164))\n",
    "test_labels.extend('LL' for i in range(171))\n",
    "test_labels.extend('RL' for i in range(141))\n",
    "test_labels.extend('TA' for i in range(155))\n",
    "test_labels.extend('W' for i in range(169))    \n",
    "\n",
    "#Convert lists to arrays                \n",
    "test_images = np.array(test_images)\n",
    "test_labels = np.array(test_labels)\n",
    "\n",
    "#Encode labels from text to integers.\n",
    "from sklearn import preprocessing\n",
    "le = preprocessing.LabelEncoder()\n",
    "le.fit(test_labels)\n",
    "test_labels_encoded = le.transform(test_labels)\n",
    "le.fit(train_labels)\n",
    "train_labels_encoded = le.transform(train_labels)\n",
    "\n",
    "#Split data into test and train datasets (already split but assigning to meaningful convention)\n",
    "x_train, y_train, x_test, y_test = train_images, train_labels_encoded, test_images, test_labels_encoded\n",
    "\n",
    "###################################################################\n",
    "# Normalize pixel values to between 0 and 1\n",
    "x_train, x_test = x_train / 255.0, x_test / 255.0\n"
   ]
  },
  {
   "cell_type": "code",
   "execution_count": 2,
   "metadata": {},
   "outputs": [],
   "source": [
    "# One hot encode y values for neural network. \n",
    "from tensorflow.keras.utils import to_categorical\n",
    "y_train_one_hot = to_categorical(y_train)\n",
    "y_test_one_hot = to_categorical(y_test)"
   ]
  },
  {
   "cell_type": "code",
   "execution_count": 3,
   "metadata": {},
   "outputs": [
    {
     "name": "stdout",
     "output_type": "stream",
     "text": [
      "Model: \"vgg16\"\n",
      "_________________________________________________________________\n",
      "Layer (type)                 Output Shape              Param #   \n",
      "=================================================================\n",
      "input_1 (InputLayer)         [(None, 224, 224, 3)]     0         \n",
      "_________________________________________________________________\n",
      "block1_conv1 (Conv2D)        (None, 224, 224, 64)      1792      \n",
      "_________________________________________________________________\n",
      "block1_conv2 (Conv2D)        (None, 224, 224, 64)      36928     \n",
      "_________________________________________________________________\n",
      "block1_pool (MaxPooling2D)   (None, 112, 112, 64)      0         \n",
      "_________________________________________________________________\n",
      "block2_conv1 (Conv2D)        (None, 112, 112, 128)     73856     \n",
      "_________________________________________________________________\n",
      "block2_conv2 (Conv2D)        (None, 112, 112, 128)     147584    \n",
      "_________________________________________________________________\n",
      "block2_pool (MaxPooling2D)   (None, 56, 56, 128)       0         \n",
      "_________________________________________________________________\n",
      "block3_conv1 (Conv2D)        (None, 56, 56, 256)       295168    \n",
      "_________________________________________________________________\n",
      "block3_conv2 (Conv2D)        (None, 56, 56, 256)       590080    \n",
      "_________________________________________________________________\n",
      "block3_conv3 (Conv2D)        (None, 56, 56, 256)       590080    \n",
      "_________________________________________________________________\n",
      "block3_pool (MaxPooling2D)   (None, 28, 28, 256)       0         \n",
      "_________________________________________________________________\n",
      "block4_conv1 (Conv2D)        (None, 28, 28, 512)       1180160   \n",
      "_________________________________________________________________\n",
      "block4_conv2 (Conv2D)        (None, 28, 28, 512)       2359808   \n",
      "_________________________________________________________________\n",
      "block4_conv3 (Conv2D)        (None, 28, 28, 512)       2359808   \n",
      "_________________________________________________________________\n",
      "block4_pool (MaxPooling2D)   (None, 14, 14, 512)       0         \n",
      "_________________________________________________________________\n",
      "block5_conv1 (Conv2D)        (None, 14, 14, 512)       2359808   \n",
      "_________________________________________________________________\n",
      "block5_conv2 (Conv2D)        (None, 14, 14, 512)       2359808   \n",
      "_________________________________________________________________\n",
      "block5_conv3 (Conv2D)        (None, 14, 14, 512)       2359808   \n",
      "_________________________________________________________________\n",
      "block5_pool (MaxPooling2D)   (None, 7, 7, 512)         0         \n",
      "=================================================================\n",
      "Total params: 14,714,688\n",
      "Trainable params: 0\n",
      "Non-trainable params: 14,714,688\n",
      "_________________________________________________________________\n"
     ]
    }
   ],
   "source": [
    "#############################\n",
    "# Load model wothout classifier/fully connected layers\n",
    "VGG_model = VGG16(weights='imagenet', include_top=False, input_shape=(SIZE, SIZE, 3))\n",
    "\n",
    "# Make loaded layers as non-trainable. This is important as we want to work with pre-trained weights\n",
    "for layer in VGG_model.layers:\n",
    "    layer.trainable = False\n",
    "    \n",
    "VGG_model.summary()  # Trainable parameters will be 0\n",
    "\n",
    "\n",
    "# Now, let us use features from convolutional network for the ML methods \n",
    "feature_extractor=VGG_model.predict(x_train)\n",
    "\n",
    "features = feature_extractor.reshape(feature_extractor.shape[0], -1)\n",
    "\n",
    "X_for_RF = features #This is our X input to the ML methods \n"
   ]
  },
  {
   "cell_type": "code",
   "execution_count": 4,
   "metadata": {},
   "outputs": [
    {
     "name": "stdout",
     "output_type": "stream",
     "text": [
      "Accuracy =  0.72875\n"
     ]
    },
    {
     "data": {
      "text/plain": [
       "<matplotlib.axes._subplots.AxesSubplot at 0x1d1dcfca460>"
      ]
     },
     "execution_count": 4,
     "metadata": {},
     "output_type": "execute_result"
    },
    {
     "data": {
      "image/png": "[encoded data removed]",
      "text/plain": [
       "<Figure size 432x288 with 2 Axes>"
      ]
     },
     "metadata": {
      "needs_background": "light"
     },
     "output_type": "display_data"
    }
   ],
   "source": [
    "# RANDOM FOREST\n",
    "from sklearn.ensemble import RandomForestClassifier\n",
    "RF_model = RandomForestClassifier()\n",
    "\n",
    "# Train the model on training data\n",
    "RF_model.fit(X_for_RF, y_train) # For sklearn no one hot encoding\n",
    "\n",
    "# Send test data through same feature extractor process\n",
    "X_test_feature = VGG_model.predict(x_test)\n",
    "X_test_features = X_test_feature.reshape(X_test_feature.shape[0], -1)\n",
    "\n",
    "# Now predict using the trained RF model. \n",
    "prediction_RF = RF_model.predict(X_test_features)\n",
    "# Inverse le transform to get original label back. \n",
    "prediction_RF = le.inverse_transform(prediction_RF)\n",
    "\n",
    "# Print overall accuracy\n",
    "from sklearn import metrics\n",
    "print (\"Accuracy = \", metrics.accuracy_score(test_labels, prediction_RF))\n",
    "\n",
    "# Confusion Matrix - verify accuracy of each class\n",
    "from sklearn.metrics import confusion_matrix\n",
    "\n",
    "cm = confusion_matrix(test_labels, prediction_RF)\n",
    "#print(cm)\n",
    "sns.heatmap(cm, annot=True)"
   ]
  },
  {
   "cell_type": "code",
   "execution_count": null,
   "metadata": {},
   "outputs": [],
   "source": [
    "from sklearn import svm\n",
    "from sklearn import model_selection\n",
    "from sklearn.linear_model import LogisticRegression\n",
    "from sklearn.model_selection import train_test_split\n",
    "from sklearn.model_selection import GridSearchCV\n",
    "from sklearn.neighbors import KNeighborsClassifier\n",
    "from sklearn.tree import DecisionTreeClassifier\n",
    "from sklearn.ensemble import RandomForestClassifier\n",
    "\n",
    "# SVM\n",
    "SVM_model = svm.SVC()\n",
    "\n",
    "# Train the model on training data\n",
    "SVM_model.fit(X_for_RF, y_train) #For sklearn no one hot encoding\n",
    "\n",
    "# Send test data through same feature extractor process\n",
    "X_test_feature = VGG_model.predict(x_test)\n",
    "X_test_features = X_test_feature.reshape(X_test_feature.shape[0], -1)\n",
    "\n",
    "# Now predict using the trained SVM model. \n",
    "prediction_RF = SVM_model.predict(X_test_features)\n",
    "# Inverse le transform to get original label back. \n",
    "prediction_RF = le.inverse_transform(prediction_RF)\n",
    "\n",
    "# Print overall accuracy\n",
    "from sklearn import metrics\n",
    "print (\"Accuracy = \", metrics.accuracy_score(test_labels, prediction_RF))\n",
    "\n",
    "# Confusion Matrix - verify accuracy of each class\n",
    "from sklearn.metrics import confusion_matrix\n",
    "\n",
    "cm = confusion_matrix(test_labels, prediction_RF)\n",
    "# print(cm)\n",
    "sns.heatmap(cm, annot=True)"
   ]
  },
  {
   "cell_type": "code",
   "execution_count": null,
   "metadata": {},
   "outputs": [],
   "source": [
    "# KNN \n",
    "KNN_model = KNeighborsClassifier()\n",
    "\n",
    "# Train the model on training data\n",
    "KNN_model.fit(X_for_RF, y_train) #For sklearn no one hot encoding\n",
    "\n",
    "# Send test data through same feature extractor process\n",
    "X_test_feature = VGG_model.predict(x_test)\n",
    "X_test_features = X_test_feature.reshape(X_test_feature.shape[0], -1)\n",
    "\n",
    "# Now predict using the trained KNN model. \n",
    "prediction_RF = KNN_model.predict(X_test_features)\n",
    "# Inverse le transform to get original label back. \n",
    "prediction_RF = le.inverse_transform(prediction_RF)\n",
    "\n",
    "# Print overall accuracy\n",
    "from sklearn import metrics\n",
    "print (\"Accuracy = \", metrics.accuracy_score(test_labels, prediction_RF))\n",
    "\n",
    "# Confusion Matrix - verify accuracy of each class\n",
    "from sklearn.metrics import confusion_matrix\n",
    "\n",
    "cm = confusion_matrix(test_labels, prediction_RF)\n",
    "# print(cm)\n",
    "sns.heatmap(cm, annot=True)"
   ]
  },
  {
   "cell_type": "code",
   "execution_count": null,
   "metadata": {},
   "outputs": [],
   "source": [
    "# LR\n",
    "from sklearn import svm\n",
    "from sklearn import model_selection\n",
    "from sklearn.linear_model import LogisticRegression\n",
    "from sklearn.model_selection import train_test_split\n",
    "from sklearn.model_selection import GridSearchCV\n",
    "from sklearn.neighbors import KNeighborsClassifier\n",
    "from sklearn.tree import DecisionTreeClassifier\n",
    "from sklearn.ensemble import RandomForestClassifier\n",
    "LR_model = LogisticRegression(C=1, max_iter=3000)\n",
    "\n",
    "# Train the model on training data\n",
    "LR_model.fit(X_for_RF, y_train) #For sklearn no one hot encoding\n",
    "\n",
    "# Send test data through same feature extractor process\n",
    "X_test_feature = VGG_model.predict(x_test)\n",
    "X_test_features = X_test_feature.reshape(X_test_feature.shape[0], -1)\n",
    "\n",
    "# Now predict using the trained LR model. \n",
    "prediction_RF = LR_model.predict(X_test_features)\n",
    "# Inverse le transform to get original label back. \n",
    "prediction_RF = le.inverse_transform(prediction_RF)\n",
    "\n",
    "# Print overall accuracy\n",
    "from sklearn import metrics\n",
    "print (\"Accuracy = \", metrics.accuracy_score(test_labels, prediction_RF))\n",
    "\n",
    "# Confusion Matrix - verify accuracy of each class\n",
    "from sklearn.metrics import confusion_matrix\n",
    "\n",
    "cm = confusion_matrix(test_labels, prediction_RF)\n",
    "# print(cm)\n",
    "sns.heatmap(cm, annot=True)"
   ]
  },
  {
   "cell_type": "code",
   "execution_count": 5,
   "metadata": {},
   "outputs": [
    {
     "name": "stderr",
     "output_type": "stream",
     "text": [
      "C:\\Users\\leona\\anaconda3\\lib\\site-packages\\xgboost\\sklearn.py:1224: UserWarning: The use of label encoder in XGBClassifier is deprecated and will be removed in a future release. To remove this warning, do the following: 1) Pass option use_label_encoder=False when constructing XGBClassifier object; and 2) Encode your labels (y) as integers starting with 0, i.e. 0, 1, 2, ..., [num_class - 1].\n",
      "  warnings.warn(label_encoder_deprecation_msg, UserWarning)\n"
     ]
    },
    {
     "name": "stdout",
     "output_type": "stream",
     "text": [
      "[01:10:02] WARNING: C:/Users/Administrator/workspace/xgboost-win64_release_1.5.1/src/learner.cc:1115: Starting in XGBoost 1.3.0, the default evaluation metric used with the objective 'multi:softprob' was changed from 'merror' to 'mlogloss'. Explicitly set eval_metric if you'd like to restore the old behavior.\n",
      "Accuracy =  0.76875\n"
     ]
    },
    {
     "data": {
      "text/plain": [
       "<matplotlib.axes._subplots.AxesSubplot at 0x1d1dd3a5070>"
      ]
     },
     "execution_count": 5,
     "metadata": {},
     "output_type": "execute_result"
    },
    {
     "data": {
      "image/png": "[encoded data removed]",
      "text/plain": [
       "<Figure size 432x288 with 2 Axes>"
      ]
     },
     "metadata": {
      "needs_background": "light"
     },
     "output_type": "display_data"
    }
   ],
   "source": [
    "# XGBOOST\n",
    "import xgboost as xgb\n",
    "# XG_model = xgb.XGBClassifier()\n",
    "XG_model = xgb.XGBClassifier()\n",
    "XG_model.fit(X_for_RF, y_train) #For sklearn no one hot encoding\n",
    "\n",
    "# Send test data through same feature extractor process\n",
    "X_test_feature = VGG_model.predict(x_test)\n",
    "X_test_features = X_test_feature.reshape(X_test_feature.shape[0], -1)\n",
    "\n",
    "# Now predict using the trained XGB model. \n",
    "prediction_RF = XG_model.predict(X_test_features)\n",
    "# Inverse le transform to get original label back. \n",
    "prediction_RF = le.inverse_transform(prediction_RF)\n",
    "\n",
    "# Print overall accuracy\n",
    "from sklearn import metrics\n",
    "print (\"Accuracy = \", metrics.accuracy_score(test_labels, prediction_RF))\n",
    "\n",
    "# Confusion Matrix - verify accuracy of each class\n",
    "from sklearn.metrics import confusion_matrix\n",
    "\n",
    "cm = confusion_matrix(test_labels, prediction_RF)\n",
    "# print(cm)\n",
    "sns.heatmap(cm, annot=True)\n"
   ]
  },
  {
   "cell_type": "markdown",
   "metadata": {},
   "source": [
    "### VGG-16 + ML methods - PCA & Preprocessed Images (Img 224 x 224 x 3)"
   ]
  },
  {
   "cell_type": "code",
   "execution_count": 38,
   "metadata": {},
   "outputs": [],
   "source": [
    "import numpy as np \n",
    "import matplotlib.pyplot as plt\n",
    "import glob\n",
    "import cv2\n",
    "import tensorflow.keras\n",
    "from tensorflow.keras.models import Model, Sequential\n",
    "from tensorflow.keras.layers import Dense, Flatten, Conv2D, MaxPooling2D\n",
    "#from tensorflow.keras.layers.normalization import BatchNormalization\n",
    "import os\n",
    "import seaborn as sns\n",
    "from tensorflow.keras.applications.vgg16 import VGG16\n",
    "from skimage.color import gray2rgb\n",
    "\n",
    "SIZE = 224  #Resize images\n",
    "\n",
    "# Extract the training images and labels \n",
    "data = ['C:/Users/leona/OneDrive/DSA4199/NIST-Classification/PCA - Preprocessed/Train/A/' + s for s in os.listdir('C:/Users/leona/OneDrive/DSA4199/NIST-Classification/PCA - Preprocessed/Train/A')]\n",
    "data.extend(['C:/Users/leona/OneDrive/DSA4199/NIST-Classification/PCA - Preprocessed/Train/LL/' + s for s in os.listdir('C:/Users/leona/OneDrive/DSA4199/NIST-Classification/PCA - Preprocessed/Train/LL')])\n",
    "data.extend(['C:/Users/leona/OneDrive/DSA4199/NIST-Classification/PCA - Preprocessed/Train/RL/' + s for s in os.listdir('C:/Users/leona/OneDrive/DSA4199/NIST-Classification/PCA - Preprocessed/Train/RL')])\n",
    "data.extend(['C:/Users/leona/OneDrive/DSA4199/NIST-Classification/PCA - Preprocessed/Train/TA/' + s for s in os.listdir('C:/Users/leona/OneDrive/DSA4199/NIST-Classification/PCA - Preprocessed/Train/TA')])\n",
    "data.extend(['C:/Users/leona/OneDrive/DSA4199/NIST-Classification/PCA - Preprocessed/Train/W/' + s for s in os.listdir('C:/Users/leona/OneDrive/DSA4199/NIST-Classification/PCA - Preprocessed/Train/W')])\n",
    "\n",
    "train_images = []\n",
    "for x in range(len(data)):\n",
    "    img = cv2.imread(data[x],0)\n",
    "    test = gray2rgb(img)\n",
    "    test = cv2.resize(test, (224,224), interpolation = cv2.INTER_AREA)\n",
    "    train_images.append(test)\n",
    "    \n",
    "train_labels = []\n",
    "train_labels.extend('A' for i in range(637))\n",
    "train_labels.extend('LL' for i in range(627))\n",
    "train_labels.extend('RL' for i in range(660))\n",
    "train_labels.extend('TA' for i in range(645))\n",
    "train_labels.extend('W' for i in range(630))   \n",
    "\n",
    "#Convert lists to arrays        \n",
    "train_images = np.array(train_images)\n",
    "train_labels = np.array(train_labels)\n",
    "\n",
    "# Extract the test images and labels \n",
    "datat = ['C:/Users/leona/OneDrive/DSA4199/NIST-Classification/PCA - Preprocessed/Test/A/' + s for s in os.listdir('C:/Users/leona/OneDrive/DSA4199/NIST-Classification/PCA - Preprocessed/Test/A')]\n",
    "datat.extend(['C:/Users/leona/OneDrive/DSA4199/NIST-Classification/PCA - Preprocessed/Test/LL/' + s for s in os.listdir('C:/Users/leona/OneDrive/DSA4199/NIST-Classification/PCA - Preprocessed/Test/LL')])\n",
    "datat.extend(['C:/Users/leona/OneDrive/DSA4199/NIST-Classification/PCA - Preprocessed/Test/RL/' + s for s in os.listdir('C:/Users/leona/OneDrive/DSA4199/NIST-Classification/PCA - Preprocessed/Test/RL')])\n",
    "datat.extend(['C:/Users/leona/OneDrive/DSA4199/NIST-Classification/PCA - Preprocessed/Test/TA/' + s for s in os.listdir('C:/Users/leona/OneDrive/DSA4199/NIST-Classification/PCA - Preprocessed/Test/TA')])\n",
    "datat.extend(['C:/Users/leona/OneDrive/DSA4199/NIST-Classification/PCA - Preprocessed/Test/W/' + s for s in os.listdir('C:/Users/leona/OneDrive/DSA4199/NIST-Classification/PCA - Preprocessed/Test/W')])\n",
    "\n",
    "test_images = []\n",
    "for x in range(len(datat)):\n",
    "    img = cv2.imread(datat[x],0)\n",
    "    test = gray2rgb(img)\n",
    "    test = cv2.resize(test, (224,224), interpolation = cv2.INTER_AREA)\n",
    "    test_images.append(test)\n",
    "    \n",
    "test_labels = []\n",
    "test_labels.extend('A' for i in range(164))\n",
    "test_labels.extend('LL' for i in range(171))\n",
    "test_labels.extend('RL' for i in range(141))\n",
    "test_labels.extend('TA' for i in range(155))\n",
    "test_labels.extend('W' for i in range(169))    \n",
    "\n",
    "#Convert lists to arrays                \n",
    "test_images = np.array(test_images)\n",
    "test_labels = np.array(test_labels)\n",
    "\n",
    "#Encode labels from text to integers.\n",
    "from sklearn import preprocessing\n",
    "le = preprocessing.LabelEncoder()\n",
    "le.fit(test_labels)\n",
    "test_labels_encoded = le.transform(test_labels)\n",
    "le.fit(train_labels)\n",
    "train_labels_encoded = le.transform(train_labels)\n",
    "\n",
    "#Split data into test and train datasets (already split but assigning to meaningful convention)\n",
    "x_train, y_train, x_test, y_test = train_images, train_labels_encoded, test_images, test_labels_encoded\n",
    "\n",
    "###################################################################\n",
    "# Normalize pixel values to between 0 and 1\n",
    "x_train, x_test = x_train / 255.0, x_test / 255.0\n"
   ]
  },
  {
   "cell_type": "code",
   "execution_count": 39,
   "metadata": {},
   "outputs": [],
   "source": [
    "# One hot encode y values for neural network. \n",
    "from tensorflow.keras.utils import to_categorical\n",
    "y_train_one_hot = to_categorical(y_train)\n",
    "y_test_one_hot = to_categorical(y_test)"
   ]
  },
  {
   "cell_type": "code",
   "execution_count": 40,
   "metadata": {},
   "outputs": [
    {
     "name": "stdout",
     "output_type": "stream",
     "text": [
      "Model: \"vgg16\"\n",
      "_________________________________________________________________\n",
      "Layer (type)                 Output Shape              Param #   \n",
      "=================================================================\n",
      "input_4 (InputLayer)         [(None, 224, 224, 3)]     0         \n",
      "_________________________________________________________________\n",
      "block1_conv1 (Conv2D)        (None, 224, 224, 64)      1792      \n",
      "_________________________________________________________________\n",
      "block1_conv2 (Conv2D)        (None, 224, 224, 64)      36928     \n",
      "_________________________________________________________________\n",
      "block1_pool (MaxPooling2D)   (None, 112, 112, 64)      0         \n",
      "_________________________________________________________________\n",
      "block2_conv1 (Conv2D)        (None, 112, 112, 128)     73856     \n",
      "_________________________________________________________________\n",
      "block2_conv2 (Conv2D)        (None, 112, 112, 128)     147584    \n",
      "_________________________________________________________________\n",
      "block2_pool (MaxPooling2D)   (None, 56, 56, 128)       0         \n",
      "_________________________________________________________________\n",
      "block3_conv1 (Conv2D)        (None, 56, 56, 256)       295168    \n",
      "_________________________________________________________________\n",
      "block3_conv2 (Conv2D)        (None, 56, 56, 256)       590080    \n",
      "_________________________________________________________________\n",
      "block3_conv3 (Conv2D)        (None, 56, 56, 256)       590080    \n",
      "_________________________________________________________________\n",
      "block3_pool (MaxPooling2D)   (None, 28, 28, 256)       0         \n",
      "_________________________________________________________________\n",
      "block4_conv1 (Conv2D)        (None, 28, 28, 512)       1180160   \n",
      "_________________________________________________________________\n",
      "block4_conv2 (Conv2D)        (None, 28, 28, 512)       2359808   \n",
      "_________________________________________________________________\n",
      "block4_conv3 (Conv2D)        (None, 28, 28, 512)       2359808   \n",
      "_________________________________________________________________\n",
      "block4_pool (MaxPooling2D)   (None, 14, 14, 512)       0         \n",
      "_________________________________________________________________\n",
      "block5_conv1 (Conv2D)        (None, 14, 14, 512)       2359808   \n",
      "_________________________________________________________________\n",
      "block5_conv2 (Conv2D)        (None, 14, 14, 512)       2359808   \n",
      "_________________________________________________________________\n",
      "block5_conv3 (Conv2D)        (None, 14, 14, 512)       2359808   \n",
      "_________________________________________________________________\n",
      "block5_pool (MaxPooling2D)   (None, 7, 7, 512)         0         \n",
      "=================================================================\n",
      "Total params: 14,714,688\n",
      "Trainable params: 0\n",
      "Non-trainable params: 14,714,688\n",
      "_________________________________________________________________\n"
     ]
    }
   ],
   "source": [
    "#############################\n",
    "# Load model wothout classifier/fully connected layers\n",
    "VGG_model = VGG16(weights='imagenet', include_top=False, input_shape=(SIZE, SIZE, 3))\n",
    "\n",
    "# Make loaded layers as non-trainable. This is important as we want to work with pre-trained weights\n",
    "for layer in VGG_model.layers:\n",
    "    layer.trainable = False\n",
    "    \n",
    "VGG_model.summary()  # Trainable parameters will be 0\n",
    "\n",
    "\n",
    "# Now, let us use features from convolutional network for the ML methods \n",
    "feature_extractor=VGG_model.predict(x_train)\n",
    "\n",
    "features = feature_extractor.reshape(feature_extractor.shape[0], -1)\n",
    "\n",
    "X_for_RF = features #This is our X input to the ML methods \n"
   ]
  },
  {
   "cell_type": "code",
   "execution_count": 9,
   "metadata": {},
   "outputs": [
    {
     "name": "stdout",
     "output_type": "stream",
     "text": [
      "Accuracy =  0.8225\n"
     ]
    },
    {
     "data": {
      "text/plain": [
       "<matplotlib.axes._subplots.AxesSubplot at 0x1d1dc0af7f0>"
      ]
     },
     "execution_count": 9,
     "metadata": {},
     "output_type": "execute_result"
    },
    {
     "data": {
      "image/png": "[encoded data removed]",
      "text/plain": [
       "<Figure size 432x288 with 2 Axes>"
      ]
     },
     "metadata": {
      "needs_background": "light"
     },
     "output_type": "display_data"
    }
   ],
   "source": [
    "# RANDOM FOREST\n",
    "from sklearn.ensemble import RandomForestClassifier\n",
    "RF_model = RandomForestClassifier()\n",
    "\n",
    "# Train the model on training data\n",
    "RF_model.fit(X_for_RF, y_train) # For sklearn no one hot encoding\n",
    "\n",
    "# Send test data through same feature extractor process\n",
    "X_test_feature = VGG_model.predict(x_test)\n",
    "X_test_features = X_test_feature.reshape(X_test_feature.shape[0], -1)\n",
    "\n",
    "# Now predict using the trained RF model. \n",
    "prediction_RF = RF_model.predict(X_test_features)\n",
    "# Inverse le transform to get original label back. \n",
    "prediction_RF = le.inverse_transform(prediction_RF)\n",
    "\n",
    "# Print overall accuracy\n",
    "from sklearn import metrics\n",
    "print (\"Accuracy = \", metrics.accuracy_score(test_labels, prediction_RF))\n",
    "\n",
    "# Confusion Matrix - verify accuracy of each class\n",
    "from sklearn.metrics import confusion_matrix\n",
    "\n",
    "cm = confusion_matrix(test_labels, prediction_RF)\n",
    "#print(cm)\n",
    "sns.heatmap(cm, annot=True)"
   ]
  },
  {
   "cell_type": "code",
   "execution_count": 41,
   "metadata": {},
   "outputs": [
    {
     "name": "stdout",
     "output_type": "stream",
     "text": [
      "Accuracy =  0.79625\n"
     ]
    },
    {
     "data": {
      "text/plain": [
       "<matplotlib.axes._subplots.AxesSubplot at 0x1d1b38df760>"
      ]
     },
     "execution_count": 41,
     "metadata": {},
     "output_type": "execute_result"
    },
    {
     "data": {
      "image/png": "[encoded data removed]",
      "text/plain": [
       "<Figure size 432x288 with 2 Axes>"
      ]
     },
     "metadata": {
      "needs_background": "light"
     },
     "output_type": "display_data"
    }
   ],
   "source": [
    "from sklearn import svm\n",
    "from sklearn import model_selection\n",
    "from sklearn.linear_model import LogisticRegression\n",
    "from sklearn.model_selection import train_test_split\n",
    "from sklearn.model_selection import GridSearchCV\n",
    "from sklearn.neighbors import KNeighborsClassifier\n",
    "from sklearn.tree import DecisionTreeClassifier\n",
    "from sklearn.ensemble import RandomForestClassifier\n",
    "\n",
    "# SVM\n",
    "SVM_model = svm.SVC()\n",
    "\n",
    "# Train the model on training data\n",
    "SVM_model.fit(X_for_RF, y_train) #For sklearn no one hot encoding\n",
    "\n",
    "# Send test data through same feature extractor process\n",
    "X_test_feature = VGG_model.predict(x_test)\n",
    "X_test_features = X_test_feature.reshape(X_test_feature.shape[0], -1)\n",
    "\n",
    "# Now predict using the trained SVM model. \n",
    "prediction_RF = SVM_model.predict(X_test_features)\n",
    "# Inverse le transform to get original label back. \n",
    "prediction_RF = le.inverse_transform(prediction_RF)\n",
    "\n",
    "# Print overall accuracy\n",
    "from sklearn import metrics\n",
    "print (\"Accuracy = \", metrics.accuracy_score(test_labels, prediction_RF))\n",
    "\n",
    "# Confusion Matrix - verify accuracy of each class\n",
    "from sklearn.metrics import confusion_matrix\n",
    "\n",
    "cm = confusion_matrix(test_labels, prediction_RF)\n",
    "# print(cm)\n",
    "sns.heatmap(cm, annot=True)"
   ]
  },
  {
   "cell_type": "code",
   "execution_count": 42,
   "metadata": {},
   "outputs": [
    {
     "name": "stdout",
     "output_type": "stream",
     "text": [
      "Accuracy =  0.69875\n"
     ]
    },
    {
     "data": {
      "text/plain": [
       "<matplotlib.axes._subplots.AxesSubplot at 0x1d1b3a33a90>"
      ]
     },
     "execution_count": 42,
     "metadata": {},
     "output_type": "execute_result"
    },
    {
     "data": {
      "image/png": "[encoded data removed]",
      "text/plain": [
       "<Figure size 432x288 with 2 Axes>"
      ]
     },
     "metadata": {
      "needs_background": "light"
     },
     "output_type": "display_data"
    }
   ],
   "source": [
    "# KNN \n",
    "KNN_model = KNeighborsClassifier()\n",
    "\n",
    "# Train the model on training data\n",
    "KNN_model.fit(X_for_RF, y_train) #For sklearn no one hot encoding\n",
    "\n",
    "# Send test data through same feature extractor process\n",
    "X_test_feature = VGG_model.predict(x_test)\n",
    "X_test_features = X_test_feature.reshape(X_test_feature.shape[0], -1)\n",
    "\n",
    "# Now predict using the trained KNN model. \n",
    "prediction_RF = KNN_model.predict(X_test_features)\n",
    "# Inverse le transform to get original label back. \n",
    "prediction_RF = le.inverse_transform(prediction_RF)\n",
    "\n",
    "# Print overall accuracy\n",
    "from sklearn import metrics\n",
    "print (\"Accuracy = \", metrics.accuracy_score(test_labels, prediction_RF))\n",
    "\n",
    "# Confusion Matrix - verify accuracy of each class\n",
    "from sklearn.metrics import confusion_matrix\n",
    "\n",
    "cm = confusion_matrix(test_labels, prediction_RF)\n",
    "# print(cm)\n",
    "sns.heatmap(cm, annot=True)"
   ]
  },
  {
   "cell_type": "code",
   "execution_count": 43,
   "metadata": {},
   "outputs": [
    {
     "name": "stdout",
     "output_type": "stream",
     "text": [
      "Accuracy =  0.8475\n"
     ]
    },
    {
     "data": {
      "text/plain": [
       "<matplotlib.axes._subplots.AxesSubplot at 0x1d1b2ec32b0>"
      ]
     },
     "execution_count": 43,
     "metadata": {},
     "output_type": "execute_result"
    },
    {
     "data": {
      "image/png": "[encoded data removed]",
      "text/plain": [
       "<Figure size 432x288 with 2 Axes>"
      ]
     },
     "metadata": {
      "needs_background": "light"
     },
     "output_type": "display_data"
    }
   ],
   "source": [
    "# LR\n",
    "from sklearn import svm\n",
    "from sklearn import model_selection\n",
    "from sklearn.linear_model import LogisticRegression\n",
    "from sklearn.model_selection import train_test_split\n",
    "from sklearn.model_selection import GridSearchCV\n",
    "from sklearn.neighbors import KNeighborsClassifier\n",
    "from sklearn.tree import DecisionTreeClassifier\n",
    "from sklearn.ensemble import RandomForestClassifier\n",
    "LR_model = LogisticRegression(C=1, max_iter=3000)\n",
    "\n",
    "# Train the model on training data\n",
    "LR_model.fit(X_for_RF, y_train) #For sklearn no one hot encoding\n",
    "\n",
    "# Send test data through same feature extractor process\n",
    "X_test_feature = VGG_model.predict(x_test)\n",
    "X_test_features = X_test_feature.reshape(X_test_feature.shape[0], -1)\n",
    "\n",
    "# Now predict using the trained LR model. \n",
    "prediction_RF = LR_model.predict(X_test_features)\n",
    "# Inverse le transform to get original label back. \n",
    "prediction_RF = le.inverse_transform(prediction_RF)\n",
    "\n",
    "# Print overall accuracy\n",
    "from sklearn import metrics\n",
    "print (\"Accuracy = \", metrics.accuracy_score(test_labels, prediction_RF))\n",
    "\n",
    "# Confusion Matrix - verify accuracy of each class\n",
    "from sklearn.metrics import confusion_matrix\n",
    "\n",
    "cm = confusion_matrix(test_labels, prediction_RF)\n",
    "# print(cm)\n",
    "sns.heatmap(cm, annot=True)"
   ]
  },
  {
   "cell_type": "code",
   "execution_count": 10,
   "metadata": {},
   "outputs": [
    {
     "name": "stderr",
     "output_type": "stream",
     "text": [
      "C:\\Users\\leona\\anaconda3\\lib\\site-packages\\xgboost\\sklearn.py:1224: UserWarning: The use of label encoder in XGBClassifier is deprecated and will be removed in a future release. To remove this warning, do the following: 1) Pass option use_label_encoder=False when constructing XGBClassifier object; and 2) Encode your labels (y) as integers starting with 0, i.e. 0, 1, 2, ..., [num_class - 1].\n",
      "  warnings.warn(label_encoder_deprecation_msg, UserWarning)\n"
     ]
    },
    {
     "name": "stdout",
     "output_type": "stream",
     "text": [
      "[01:45:32] WARNING: C:/Users/Administrator/workspace/xgboost-win64_release_1.5.1/src/learner.cc:1115: Starting in XGBoost 1.3.0, the default evaluation metric used with the objective 'multi:softprob' was changed from 'merror' to 'mlogloss'. Explicitly set eval_metric if you'd like to restore the old behavior.\n",
      "Accuracy =  0.8375\n"
     ]
    },
    {
     "data": {
      "text/plain": [
       "<matplotlib.axes._subplots.AxesSubplot at 0x1d1dcf63af0>"
      ]
     },
     "execution_count": 10,
     "metadata": {},
     "output_type": "execute_result"
    },
    {
     "data": {
      "image/png": "[encoded data removed]",
      "text/plain": [
       "<Figure size 432x288 with 2 Axes>"
      ]
     },
     "metadata": {
      "needs_background": "light"
     },
     "output_type": "display_data"
    }
   ],
   "source": [
    "# XGBOOST\n",
    "import xgboost as xgb\n",
    "# XG_model = xgb.XGBClassifier()\n",
    "XG_model = xgb.XGBClassifier()\n",
    "XG_model.fit(X_for_RF, y_train) #For sklearn no one hot encoding\n",
    "\n",
    "# Send test data through same feature extractor process\n",
    "X_test_feature = VGG_model.predict(x_test)\n",
    "X_test_features = X_test_feature.reshape(X_test_feature.shape[0], -1)\n",
    "\n",
    "# Now predict using the trained XGB model. \n",
    "prediction_RF = XG_model.predict(X_test_features)\n",
    "# Inverse le transform to get original label back. \n",
    "prediction_RF = le.inverse_transform(prediction_RF)\n",
    "\n",
    "# Print overall accuracy\n",
    "from sklearn import metrics\n",
    "print (\"Accuracy = \", metrics.accuracy_score(test_labels, prediction_RF))\n",
    "\n",
    "# Confusion Matrix - verify accuracy of each class\n",
    "from sklearn.metrics import confusion_matrix\n",
    "\n",
    "cm = confusion_matrix(test_labels, prediction_RF)\n",
    "# print(cm)\n",
    "sns.heatmap(cm, annot=True)\n"
   ]
  },
  {
   "cell_type": "markdown",
   "metadata": {},
   "source": [
    "### VGG-16 + ML methods - PCA & Preprocessed Images (Img 256 x 256 x 3)"
   ]
  },
  {
   "cell_type": "code",
   "execution_count": 11,
   "metadata": {},
   "outputs": [],
   "source": [
    "import numpy as np \n",
    "import matplotlib.pyplot as plt\n",
    "import glob\n",
    "import cv2\n",
    "import tensorflow.keras\n",
    "from tensorflow.keras.models import Model, Sequential\n",
    "from tensorflow.keras.layers import Dense, Flatten, Conv2D, MaxPooling2D\n",
    "#from tensorflow.keras.layers.normalization import BatchNormalization\n",
    "import os\n",
    "import seaborn as sns\n",
    "from tensorflow.keras.applications.vgg16 import VGG16\n",
    "from skimage.color import gray2rgb\n",
    "\n",
    "SIZE = 256  #Resize images\n",
    "\n",
    "# Extract the training images and labels \n",
    "data = ['C:/Users/leona/OneDrive/DSA4199/NIST-Classification/PCA - Preprocessed/Train/A/' + s for s in os.listdir('C:/Users/leona/OneDrive/DSA4199/NIST-Classification/PCA - Preprocessed/Train/A')]\n",
    "data.extend(['C:/Users/leona/OneDrive/DSA4199/NIST-Classification/PCA - Preprocessed/Train/LL/' + s for s in os.listdir('C:/Users/leona/OneDrive/DSA4199/NIST-Classification/PCA - Preprocessed/Train/LL')])\n",
    "data.extend(['C:/Users/leona/OneDrive/DSA4199/NIST-Classification/PCA - Preprocessed/Train/RL/' + s for s in os.listdir('C:/Users/leona/OneDrive/DSA4199/NIST-Classification/PCA - Preprocessed/Train/RL')])\n",
    "data.extend(['C:/Users/leona/OneDrive/DSA4199/NIST-Classification/PCA - Preprocessed/Train/TA/' + s for s in os.listdir('C:/Users/leona/OneDrive/DSA4199/NIST-Classification/PCA - Preprocessed/Train/TA')])\n",
    "data.extend(['C:/Users/leona/OneDrive/DSA4199/NIST-Classification/PCA - Preprocessed/Train/W/' + s for s in os.listdir('C:/Users/leona/OneDrive/DSA4199/NIST-Classification/PCA - Preprocessed/Train/W')])\n",
    "\n",
    "train_images = []\n",
    "for x in range(len(data)):\n",
    "    img = cv2.imread(data[x],0)\n",
    "    test = gray2rgb(img)\n",
    "    test = cv2.resize(test, (256,256), interpolation = cv2.INTER_AREA)\n",
    "    train_images.append(test)\n",
    "    \n",
    "train_labels = []\n",
    "train_labels.extend('A' for i in range(637))\n",
    "train_labels.extend('LL' for i in range(627))\n",
    "train_labels.extend('RL' for i in range(660))\n",
    "train_labels.extend('TA' for i in range(645))\n",
    "train_labels.extend('W' for i in range(630))   \n",
    "\n",
    "#Convert lists to arrays        \n",
    "train_images = np.array(train_images)\n",
    "train_labels = np.array(train_labels)\n",
    "\n",
    "# Extract the test images and labels \n",
    "datat = ['C:/Users/leona/OneDrive/DSA4199/NIST-Classification/PCA - Preprocessed/Test/A/' + s for s in os.listdir('C:/Users/leona/OneDrive/DSA4199/NIST-Classification/PCA - Preprocessed/Test/A')]\n",
    "datat.extend(['C:/Users/leona/OneDrive/DSA4199/NIST-Classification/PCA - Preprocessed/Test/LL/' + s for s in os.listdir('C:/Users/leona/OneDrive/DSA4199/NIST-Classification/PCA - Preprocessed/Test/LL')])\n",
    "datat.extend(['C:/Users/leona/OneDrive/DSA4199/NIST-Classification/PCA - Preprocessed/Test/RL/' + s for s in os.listdir('C:/Users/leona/OneDrive/DSA4199/NIST-Classification/PCA - Preprocessed/Test/RL')])\n",
    "datat.extend(['C:/Users/leona/OneDrive/DSA4199/NIST-Classification/PCA - Preprocessed/Test/TA/' + s for s in os.listdir('C:/Users/leona/OneDrive/DSA4199/NIST-Classification/PCA - Preprocessed/Test/TA')])\n",
    "datat.extend(['C:/Users/leona/OneDrive/DSA4199/NIST-Classification/PCA - Preprocessed/Test/W/' + s for s in os.listdir('C:/Users/leona/OneDrive/DSA4199/NIST-Classification/PCA - Preprocessed/Test/W')])\n",
    "\n",
    "test_images = []\n",
    "for x in range(len(datat)):\n",
    "    img = cv2.imread(datat[x],0)\n",
    "    test = gray2rgb(img)\n",
    "    test = cv2.resize(test, (256,256), interpolation = cv2.INTER_AREA)\n",
    "    test_images.append(test)\n",
    "    \n",
    "test_labels = []\n",
    "test_labels.extend('A' for i in range(164))\n",
    "test_labels.extend('LL' for i in range(171))\n",
    "test_labels.extend('RL' for i in range(141))\n",
    "test_labels.extend('TA' for i in range(155))\n",
    "test_labels.extend('W' for i in range(169))    \n",
    "\n",
    "#Convert lists to arrays                \n",
    "test_images = np.array(test_images)\n",
    "test_labels = np.array(test_labels)\n",
    "\n",
    "#Encode labels from text to integers.\n",
    "from sklearn import preprocessing\n",
    "le = preprocessing.LabelEncoder()\n",
    "le.fit(test_labels)\n",
    "test_labels_encoded = le.transform(test_labels)\n",
    "le.fit(train_labels)\n",
    "train_labels_encoded = le.transform(train_labels)\n",
    "\n",
    "#Split data into test and train datasets (already split but assigning to meaningful convention)\n",
    "x_train, y_train, x_test, y_test = train_images, train_labels_encoded, test_images, test_labels_encoded\n",
    "\n",
    "###################################################################\n",
    "# Normalize pixel values to between 0 and 1\n",
    "x_train, x_test = x_train / 255.0, x_test / 255.0\n"
   ]
  },
  {
   "cell_type": "code",
   "execution_count": 12,
   "metadata": {},
   "outputs": [],
   "source": [
    "# One hot encode y values for neural network. \n",
    "from tensorflow.keras.utils import to_categorical\n",
    "y_train_one_hot = to_categorical(y_train)\n",
    "y_test_one_hot = to_categorical(y_test)"
   ]
  },
  {
   "cell_type": "code",
   "execution_count": 13,
   "metadata": {},
   "outputs": [
    {
     "name": "stdout",
     "output_type": "stream",
     "text": [
      "Model: \"vgg16\"\n",
      "_________________________________________________________________\n",
      "Layer (type)                 Output Shape              Param #   \n",
      "=================================================================\n",
      "input_3 (InputLayer)         [(None, 256, 256, 3)]     0         \n",
      "_________________________________________________________________\n",
      "block1_conv1 (Conv2D)        (None, 256, 256, 64)      1792      \n",
      "_________________________________________________________________\n",
      "block1_conv2 (Conv2D)        (None, 256, 256, 64)      36928     \n",
      "_________________________________________________________________\n",
      "block1_pool (MaxPooling2D)   (None, 128, 128, 64)      0         \n",
      "_________________________________________________________________\n",
      "block2_conv1 (Conv2D)        (None, 128, 128, 128)     73856     \n",
      "_________________________________________________________________\n",
      "block2_conv2 (Conv2D)        (None, 128, 128, 128)     147584    \n",
      "_________________________________________________________________\n",
      "block2_pool (MaxPooling2D)   (None, 64, 64, 128)       0         \n",
      "_________________________________________________________________\n",
      "block3_conv1 (Conv2D)        (None, 64, 64, 256)       295168    \n",
      "_________________________________________________________________\n",
      "block3_conv2 (Conv2D)        (None, 64, 64, 256)       590080    \n",
      "_________________________________________________________________\n",
      "block3_conv3 (Conv2D)        (None, 64, 64, 256)       590080    \n",
      "_________________________________________________________________\n",
      "block3_pool (MaxPooling2D)   (None, 32, 32, 256)       0         \n",
      "_________________________________________________________________\n",
      "block4_conv1 (Conv2D)        (None, 32, 32, 512)       1180160   \n",
      "_________________________________________________________________\n",
      "block4_conv2 (Conv2D)        (None, 32, 32, 512)       2359808   \n",
      "_________________________________________________________________\n",
      "block4_conv3 (Conv2D)        (None, 32, 32, 512)       2359808   \n",
      "_________________________________________________________________\n",
      "block4_pool (MaxPooling2D)   (None, 16, 16, 512)       0         \n",
      "_________________________________________________________________\n",
      "block5_conv1 (Conv2D)        (None, 16, 16, 512)       2359808   \n",
      "_________________________________________________________________\n",
      "block5_conv2 (Conv2D)        (None, 16, 16, 512)       2359808   \n",
      "_________________________________________________________________\n",
      "block5_conv3 (Conv2D)        (None, 16, 16, 512)       2359808   \n",
      "_________________________________________________________________\n",
      "block5_pool (MaxPooling2D)   (None, 8, 8, 512)         0         \n",
      "=================================================================\n",
      "Total params: 14,714,688\n",
      "Trainable params: 0\n",
      "Non-trainable params: 14,714,688\n",
      "_________________________________________________________________\n"
     ]
    }
   ],
   "source": [
    "#############################\n",
    "# Load model wothout classifier/fully connected layers\n",
    "VGG_model = VGG16(weights='imagenet', include_top=False, input_shape=(SIZE, SIZE, 3))\n",
    "\n",
    "# Make loaded layers as non-trainable. This is important as we want to work with pre-trained weights\n",
    "for layer in VGG_model.layers:\n",
    "    layer.trainable = False\n",
    "    \n",
    "VGG_model.summary()  # Trainable parameters will be 0\n",
    "\n",
    "\n",
    "# Now, let us use features from convolutional network for the ML methods \n",
    "feature_extractor=VGG_model.predict(x_train)\n",
    "\n",
    "features = feature_extractor.reshape(feature_extractor.shape[0], -1)\n",
    "\n",
    "X_for_RF = features #This is our X input to the ML methods \n"
   ]
  },
  {
   "cell_type": "code",
   "execution_count": 14,
   "metadata": {},
   "outputs": [
    {
     "name": "stdout",
     "output_type": "stream",
     "text": [
      "Accuracy =  0.82875\n"
     ]
    },
    {
     "data": {
      "text/plain": [
       "<matplotlib.axes._subplots.AxesSubplot at 0x1d1dd417e50>"
      ]
     },
     "execution_count": 14,
     "metadata": {},
     "output_type": "execute_result"
    },
    {
     "data": {
      "image/png": "[encoded data removed]",
      "text/plain": [
       "<Figure size 432x288 with 2 Axes>"
      ]
     },
     "metadata": {
      "needs_background": "light"
     },
     "output_type": "display_data"
    }
   ],
   "source": [
    "# RANDOM FOREST\n",
    "from sklearn.ensemble import RandomForestClassifier\n",
    "RF_model = RandomForestClassifier()\n",
    "\n",
    "# Train the model on training data\n",
    "RF_model.fit(X_for_RF, y_train) # For sklearn no one hot encoding\n",
    "\n",
    "# Send test data through same feature extractor process\n",
    "X_test_feature = VGG_model.predict(x_test)\n",
    "X_test_features = X_test_feature.reshape(X_test_feature.shape[0], -1)\n",
    "\n",
    "# Now predict using the trained RF model. \n",
    "prediction_RF = RF_model.predict(X_test_features)\n",
    "# Inverse le transform to get original label back. \n",
    "prediction_RF = le.inverse_transform(prediction_RF)\n",
    "\n",
    "# Print overall accuracy\n",
    "from sklearn import metrics\n",
    "print (\"Accuracy = \", metrics.accuracy_score(test_labels, prediction_RF))\n",
    "\n",
    "# Confusion Matrix - verify accuracy of each class\n",
    "from sklearn.metrics import confusion_matrix\n",
    "\n",
    "cm = confusion_matrix(test_labels, prediction_RF)\n",
    "#print(cm)\n",
    "sns.heatmap(cm, annot=True)"
   ]
  },
  {
   "cell_type": "code",
   "execution_count": 15,
   "metadata": {},
   "outputs": [
    {
     "name": "stdout",
     "output_type": "stream",
     "text": [
      "Accuracy =  0.7925\n"
     ]
    },
    {
     "data": {
      "text/plain": [
       "<matplotlib.axes._subplots.AxesSubplot at 0x1d1b1fbf820>"
      ]
     },
     "execution_count": 15,
     "metadata": {},
     "output_type": "execute_result"
    },
    {
     "data": {
      "image/png": "[encoded data removed]",
      "text/plain": [
       "<Figure size 432x288 with 2 Axes>"
      ]
     },
     "metadata": {
      "needs_background": "light"
     },
     "output_type": "display_data"
    }
   ],
   "source": [
    "# RANDOM FOREST\n",
    "from sklearn.ensemble import RandomForestClassifier\n",
    "RF_model = RandomForestClassifier(max_features=10)\n",
    "\n",
    "# Train the model on training data\n",
    "RF_model.fit(X_for_RF, y_train) # For sklearn no one hot encoding\n",
    "\n",
    "# Send test data through same feature extractor process\n",
    "X_test_feature = VGG_model.predict(x_test)\n",
    "X_test_features = X_test_feature.reshape(X_test_feature.shape[0], -1)\n",
    "\n",
    "# Now predict using the trained RF model. \n",
    "prediction_RF = RF_model.predict(X_test_features)\n",
    "# Inverse le transform to get original label back. \n",
    "prediction_RF = le.inverse_transform(prediction_RF)\n",
    "\n",
    "# Print overall accuracy\n",
    "from sklearn import metrics\n",
    "print (\"Accuracy = \", metrics.accuracy_score(test_labels, prediction_RF))\n",
    "\n",
    "# Confusion Matrix - verify accuracy of each class\n",
    "from sklearn.metrics import confusion_matrix\n",
    "\n",
    "cm = confusion_matrix(test_labels, prediction_RF)\n",
    "#print(cm)\n",
    "sns.heatmap(cm, annot=True)"
   ]
  },
  {
   "cell_type": "code",
   "execution_count": 16,
   "metadata": {},
   "outputs": [
    {
     "name": "stdout",
     "output_type": "stream",
     "text": [
      "Accuracy =  0.77\n"
     ]
    },
    {
     "data": {
      "text/plain": [
       "<matplotlib.axes._subplots.AxesSubplot at 0x1d1b1f99df0>"
      ]
     },
     "execution_count": 16,
     "metadata": {},
     "output_type": "execute_result"
    },
    {
     "data": {
      "image/png": "[encoded data removed]",
      "text/plain": [
       "<Figure size 432x288 with 2 Axes>"
      ]
     },
     "metadata": {
      "needs_background": "light"
     },
     "output_type": "display_data"
    }
   ],
   "source": [
    "# RANDOM FOREST\n",
    "from sklearn.ensemble import RandomForestClassifier\n",
    "RF_model = RandomForestClassifier(n_estimators = 10)\n",
    "\n",
    "# Train the model on training data\n",
    "RF_model.fit(X_for_RF, y_train) # For sklearn no one hot encoding\n",
    "\n",
    "# Send test data through same feature extractor process\n",
    "X_test_feature = VGG_model.predict(x_test)\n",
    "X_test_features = X_test_feature.reshape(X_test_feature.shape[0], -1)\n",
    "\n",
    "# Now predict using the trained RF model. \n",
    "prediction_RF = RF_model.predict(X_test_features)\n",
    "# Inverse le transform to get original label back. \n",
    "prediction_RF = le.inverse_transform(prediction_RF)\n",
    "\n",
    "# Print overall accuracy\n",
    "from sklearn import metrics\n",
    "print (\"Accuracy = \", metrics.accuracy_score(test_labels, prediction_RF))\n",
    "\n",
    "# Confusion Matrix - verify accuracy of each class\n",
    "from sklearn.metrics import confusion_matrix\n",
    "\n",
    "cm = confusion_matrix(test_labels, prediction_RF)\n",
    "#print(cm)\n",
    "sns.heatmap(cm, annot=True)"
   ]
  },
  {
   "cell_type": "code",
   "execution_count": 8,
   "metadata": {},
   "outputs": [
    {
     "name": "stdout",
     "output_type": "stream",
     "text": [
      "Accuracy =  0.83375\n"
     ]
    },
    {
     "data": {
      "text/plain": [
       "<matplotlib.axes._subplots.AxesSubplot at 0x1fcf0d06e80>"
      ]
     },
     "execution_count": 8,
     "metadata": {},
     "output_type": "execute_result"
    },
    {
     "data": {
      "image/png": "[encoded data removed]",
      "text/plain": [
       "<Figure size 432x288 with 2 Axes>"
      ]
     },
     "metadata": {
      "needs_background": "light"
     },
     "output_type": "display_data"
    }
   ],
   "source": [
    "# RANDOM FOREST\n",
    "from sklearn.ensemble import RandomForestClassifier\n",
    "RF_model = RandomForestClassifier(n_estimators = 1000)\n",
    "\n",
    "# Train the model on training data\n",
    "RF_model.fit(X_for_RF, y_train) #For sklearn no one hot encoding\n",
    "\n",
    "# Send test data through same feature extractor process\n",
    "X_test_feature = VGG_model.predict(x_test)\n",
    "X_test_features = X_test_feature.reshape(X_test_feature.shape[0], -1)\n",
    "\n",
    "# Now predict using the trained RF model. \n",
    "prediction_RF = RF_model.predict(X_test_features)\n",
    "# Inverse le transform to get original label back. \n",
    "prediction_RF = le.inverse_transform(prediction_RF)\n",
    "\n",
    "# Print overall accuracy\n",
    "from sklearn import metrics\n",
    "print (\"Accuracy = \", metrics.accuracy_score(test_labels, prediction_RF))\n",
    "\n",
    "# Confusion Matrix - verify accuracy of each class\n",
    "from sklearn.metrics import confusion_matrix\n",
    "\n",
    "cm = confusion_matrix(test_labels, prediction_RF)\n",
    "# print(cm)\n",
    "sns.heatmap(cm, annot=True)"
   ]
  },
  {
   "cell_type": "code",
   "execution_count": 11,
   "metadata": {},
   "outputs": [],
   "source": [
    "import pandas as pd\n",
    "results=pd.DataFrame({\"Predictions\":prediction_RF})"
   ]
  },
  {
   "cell_type": "code",
   "execution_count": 12,
   "metadata": {},
   "outputs": [],
   "source": [
    "results.to_csv(\"C:/Users/leona/OneDrive/DSA4199/NIST-Classification/Model-Training/machine_learning/Results/Model-Training-Raw-RF1000.csv\",index=False)"
   ]
  },
  {
   "cell_type": "code",
   "execution_count": null,
   "metadata": {},
   "outputs": [],
   "source": [
    "from sklearn import svm\n",
    "from sklearn import model_selection\n",
    "from sklearn.linear_model import LogisticRegression\n",
    "from sklearn.model_selection import train_test_split\n",
    "from sklearn.model_selection import GridSearchCV\n",
    "from sklearn.neighbors import KNeighborsClassifier\n",
    "from sklearn.tree import DecisionTreeClassifier\n",
    "from sklearn.ensemble import RandomForestClassifier\n",
    "\n",
    "# SVM\n",
    "SVM_model = svm.SVC()\n",
    "\n",
    "# Train the model on training data\n",
    "SVM_model.fit(X_for_RF, y_train) #For sklearn no one hot encoding\n",
    "\n",
    "# Send test data through same feature extractor process\n",
    "X_test_feature = VGG_model.predict(x_test)\n",
    "X_test_features = X_test_feature.reshape(X_test_feature.shape[0], -1)\n",
    "\n",
    "# Now predict using the trained SVM model. \n",
    "prediction_RF = SVM_model.predict(X_test_features)\n",
    "# Inverse le transform to get original label back. \n",
    "prediction_RF = le.inverse_transform(prediction_RF)\n",
    "\n",
    "# Print overall accuracy\n",
    "from sklearn import metrics\n",
    "print (\"Accuracy = \", metrics.accuracy_score(test_labels, prediction_RF))\n",
    "\n",
    "# Confusion Matrix - verify accuracy of each class\n",
    "from sklearn.metrics import confusion_matrix\n",
    "\n",
    "cm = confusion_matrix(test_labels, prediction_RF)\n",
    "# print(cm)\n",
    "sns.heatmap(cm, annot=True)"
   ]
  },
  {
   "cell_type": "code",
   "execution_count": 17,
   "metadata": {},
   "outputs": [
    {
     "name": "stdout",
     "output_type": "stream",
     "text": [
      "Accuracy =  0.85125\n"
     ]
    },
    {
     "data": {
      "text/plain": [
       "<matplotlib.axes._subplots.AxesSubplot at 0x1d1b2129490>"
      ]
     },
     "execution_count": 17,
     "metadata": {},
     "output_type": "execute_result"
    },
    {
     "data": {
      "image/png": "[encoded data removed]",
      "text/plain": [
       "<Figure size 432x288 with 2 Axes>"
      ]
     },
     "metadata": {
      "needs_background": "light"
     },
     "output_type": "display_data"
    }
   ],
   "source": [
    "from sklearn import svm\n",
    "from sklearn import model_selection\n",
    "from sklearn.linear_model import LogisticRegression\n",
    "from sklearn.model_selection import train_test_split\n",
    "from sklearn.model_selection import GridSearchCV\n",
    "from sklearn.neighbors import KNeighborsClassifier\n",
    "from sklearn.tree import DecisionTreeClassifier\n",
    "from sklearn.ensemble import RandomForestClassifier\n",
    "\n",
    "# SVM\n",
    "SVM_model = svm.SVC(kernel='linear')\n",
    "\n",
    "# Train the model on training data\n",
    "SVM_model.fit(X_for_RF, y_train) #For sklearn no one hot encoding\n",
    "\n",
    "# Send test data through same feature extractor process\n",
    "X_test_feature = VGG_model.predict(x_test)\n",
    "X_test_features = X_test_feature.reshape(X_test_feature.shape[0], -1)\n",
    "\n",
    "# Now predict using the trained SVM model. \n",
    "prediction_RF = SVM_model.predict(X_test_features)\n",
    "# Inverse le transform to get original label back. \n",
    "prediction_RF = le.inverse_transform(prediction_RF)\n",
    "\n",
    "# Print overall accuracy\n",
    "from sklearn import metrics\n",
    "print (\"Accuracy = \", metrics.accuracy_score(test_labels, prediction_RF))\n",
    "\n",
    "# Confusion Matrix - verify accuracy of each class\n",
    "from sklearn.metrics import confusion_matrix\n",
    "\n",
    "cm = confusion_matrix(test_labels, prediction_RF)\n",
    "# print(cm)\n",
    "sns.heatmap(cm, annot=True)"
   ]
  },
  {
   "cell_type": "code",
   "execution_count": 18,
   "metadata": {},
   "outputs": [
    {
     "name": "stdout",
     "output_type": "stream",
     "text": [
      "Accuracy =  0.81875\n"
     ]
    },
    {
     "data": {
      "text/plain": [
       "<matplotlib.axes._subplots.AxesSubplot at 0x1d1b21cff70>"
      ]
     },
     "execution_count": 18,
     "metadata": {},
     "output_type": "execute_result"
    },
    {
     "data": {
      "image/png": "[encoded data removed]",
      "text/plain": [
       "<Figure size 432x288 with 2 Axes>"
      ]
     },
     "metadata": {
      "needs_background": "light"
     },
     "output_type": "display_data"
    }
   ],
   "source": [
    "from sklearn import svm\n",
    "from sklearn import model_selection\n",
    "from sklearn.linear_model import LogisticRegression\n",
    "from sklearn.model_selection import train_test_split\n",
    "from sklearn.model_selection import GridSearchCV\n",
    "from sklearn.neighbors import KNeighborsClassifier\n",
    "from sklearn.tree import DecisionTreeClassifier\n",
    "from sklearn.ensemble import RandomForestClassifier\n",
    "\n",
    "# SVM\n",
    "SVM_model = svm.SVC(kernel='poly')\n",
    "\n",
    "# Train the model on training data\n",
    "SVM_model.fit(X_for_RF, y_train) #For sklearn no one hot encoding\n",
    "\n",
    "# Send test data through same feature extractor process\n",
    "X_test_feature = VGG_model.predict(x_test)\n",
    "X_test_features = X_test_feature.reshape(X_test_feature.shape[0], -1)\n",
    "\n",
    "# Now predict using the trained SVM model. \n",
    "prediction_RF = SVM_model.predict(X_test_features)\n",
    "# Inverse le transform to get original label back. \n",
    "prediction_RF = le.inverse_transform(prediction_RF)\n",
    "\n",
    "# Print overall accuracy\n",
    "from sklearn import metrics\n",
    "print (\"Accuracy = \", metrics.accuracy_score(test_labels, prediction_RF))\n",
    "\n",
    "# Confusion Matrix - verify accuracy of each class\n",
    "from sklearn.metrics import confusion_matrix\n",
    "\n",
    "cm = confusion_matrix(test_labels, prediction_RF)\n",
    "# print(cm)\n",
    "sns.heatmap(cm, annot=True)"
   ]
  },
  {
   "cell_type": "code",
   "execution_count": 19,
   "metadata": {},
   "outputs": [
    {
     "name": "stdout",
     "output_type": "stream",
     "text": [
      "Accuracy =  0.85125\n"
     ]
    },
    {
     "data": {
      "text/plain": [
       "<matplotlib.axes._subplots.AxesSubplot at 0x1d1b22a9640>"
      ]
     },
     "execution_count": 19,
     "metadata": {},
     "output_type": "execute_result"
    },
    {
     "data": {
      "image/png": "[encoded data removed]",
      "text/plain": [
       "<Figure size 432x288 with 2 Axes>"
      ]
     },
     "metadata": {
      "needs_background": "light"
     },
     "output_type": "display_data"
    }
   ],
   "source": [
    "from sklearn import svm\n",
    "from sklearn import model_selection\n",
    "from sklearn.linear_model import LogisticRegression\n",
    "from sklearn.model_selection import train_test_split\n",
    "from sklearn.model_selection import GridSearchCV\n",
    "from sklearn.neighbors import KNeighborsClassifier\n",
    "from sklearn.tree import DecisionTreeClassifier\n",
    "from sklearn.ensemble import RandomForestClassifier\n",
    "\n",
    "# SVM\n",
    "SVM_model = svm.SVC(kernel='linear', C=0.1)\n",
    "\n",
    "# Train the model on training data\n",
    "SVM_model.fit(X_for_RF, y_train) #For sklearn no one hot encoding\n",
    "\n",
    "# Send test data through same feature extractor process\n",
    "X_test_feature = VGG_model.predict(x_test)\n",
    "X_test_features = X_test_feature.reshape(X_test_feature.shape[0], -1)\n",
    "\n",
    "# Now predict using the trained SVM model. \n",
    "prediction_RF = SVM_model.predict(X_test_features)\n",
    "# Inverse le transform to get original label back. \n",
    "prediction_RF = le.inverse_transform(prediction_RF)\n",
    "\n",
    "# Print overall accuracy\n",
    "from sklearn import metrics\n",
    "print (\"Accuracy = \", metrics.accuracy_score(test_labels, prediction_RF))\n",
    "\n",
    "# Confusion Matrix - verify accuracy of each class\n",
    "from sklearn.metrics import confusion_matrix\n",
    "\n",
    "cm = confusion_matrix(test_labels, prediction_RF)\n",
    "# print(cm)\n",
    "sns.heatmap(cm, annot=True)"
   ]
  },
  {
   "cell_type": "code",
   "execution_count": 20,
   "metadata": {},
   "outputs": [
    {
     "name": "stdout",
     "output_type": "stream",
     "text": [
      "Accuracy =  0.85125\n"
     ]
    },
    {
     "data": {
      "text/plain": [
       "<matplotlib.axes._subplots.AxesSubplot at 0x1d1b236a190>"
      ]
     },
     "execution_count": 20,
     "metadata": {},
     "output_type": "execute_result"
    },
    {
     "data": {
      "image/png": "[encoded data removed]",
      "text/plain": [
       "<Figure size 432x288 with 2 Axes>"
      ]
     },
     "metadata": {
      "needs_background": "light"
     },
     "output_type": "display_data"
    }
   ],
   "source": [
    "from sklearn import svm\n",
    "from sklearn import model_selection\n",
    "from sklearn.linear_model import LogisticRegression\n",
    "from sklearn.model_selection import train_test_split\n",
    "from sklearn.model_selection import GridSearchCV\n",
    "from sklearn.neighbors import KNeighborsClassifier\n",
    "from sklearn.tree import DecisionTreeClassifier\n",
    "from sklearn.ensemble import RandomForestClassifier\n",
    "\n",
    "# SVM\n",
    "SVM_model = svm.SVC(kernel='linear', C=10)\n",
    "\n",
    "# Train the model on training data\n",
    "SVM_model.fit(X_for_RF, y_train) #For sklearn no one hot encoding\n",
    "\n",
    "# Send test data through same feature extractor process\n",
    "X_test_feature = VGG_model.predict(x_test)\n",
    "X_test_features = X_test_feature.reshape(X_test_feature.shape[0], -1)\n",
    "\n",
    "# Now predict using the trained SVM model. \n",
    "prediction_RF = SVM_model.predict(X_test_features)\n",
    "# Inverse le transform to get original label back. \n",
    "prediction_RF = le.inverse_transform(prediction_RF)\n",
    "\n",
    "# Print overall accuracy\n",
    "from sklearn import metrics\n",
    "print (\"Accuracy = \", metrics.accuracy_score(test_labels, prediction_RF))\n",
    "\n",
    "# Confusion Matrix - verify accuracy of each class\n",
    "from sklearn.metrics import confusion_matrix\n",
    "\n",
    "cm = confusion_matrix(test_labels, prediction_RF)\n",
    "# print(cm)\n",
    "sns.heatmap(cm, annot=True)"
   ]
  },
  {
   "cell_type": "code",
   "execution_count": 51,
   "metadata": {},
   "outputs": [],
   "source": [
    "import pandas as pd\n",
    "results=pd.DataFrame({\"Predictions\":prediction_RF})\n",
    "results.to_csv(\"C:/Users/leona/OneDrive/DSA4199/NIST-Classification/Model-Training-Raw-SVM.csv\",index=False)"
   ]
  },
  {
   "cell_type": "code",
   "execution_count": 23,
   "metadata": {},
   "outputs": [
    {
     "name": "stdout",
     "output_type": "stream",
     "text": [
      "Accuracy =  0.72625\n"
     ]
    },
    {
     "data": {
      "text/plain": [
       "<matplotlib.axes._subplots.AxesSubplot at 0x1d1b1fa80d0>"
      ]
     },
     "execution_count": 23,
     "metadata": {},
     "output_type": "execute_result"
    },
    {
     "data": {
      "image/png": "[encoded data removed]",
      "text/plain": [
       "<Figure size 432x288 with 2 Axes>"
      ]
     },
     "metadata": {
      "needs_background": "light"
     },
     "output_type": "display_data"
    }
   ],
   "source": [
    "# KNN \n",
    "KNN_model = KNeighborsClassifier()\n",
    "\n",
    "# Train the model on training data\n",
    "KNN_model.fit(X_for_RF, y_train) #For sklearn no one hot encoding\n",
    "\n",
    "# Send test data through same feature extractor process\n",
    "X_test_feature = VGG_model.predict(x_test)\n",
    "X_test_features = X_test_feature.reshape(X_test_feature.shape[0], -1)\n",
    "\n",
    "# Now predict using the trained KNN model. \n",
    "prediction_RF = KNN_model.predict(X_test_features)\n",
    "# Inverse le transform to get original label back. \n",
    "prediction_RF = le.inverse_transform(prediction_RF)\n",
    "\n",
    "# Print overall accuracy\n",
    "from sklearn import metrics\n",
    "print (\"Accuracy = \", metrics.accuracy_score(test_labels, prediction_RF))\n",
    "\n",
    "# Confusion Matrix - verify accuracy of each class\n",
    "from sklearn.metrics import confusion_matrix\n",
    "\n",
    "cm = confusion_matrix(test_labels, prediction_RF)\n",
    "# print(cm)\n",
    "sns.heatmap(cm, annot=True)"
   ]
  },
  {
   "cell_type": "code",
   "execution_count": 21,
   "metadata": {},
   "outputs": [
    {
     "name": "stdout",
     "output_type": "stream",
     "text": [
      "Accuracy =  0.67875\n"
     ]
    },
    {
     "data": {
      "text/plain": [
       "<matplotlib.axes._subplots.AxesSubplot at 0x1d1b2b128b0>"
      ]
     },
     "execution_count": 21,
     "metadata": {},
     "output_type": "execute_result"
    },
    {
     "data": {
      "image/png": "[encoded data removed]",
      "text/plain": [
       "<Figure size 432x288 with 2 Axes>"
      ]
     },
     "metadata": {
      "needs_background": "light"
     },
     "output_type": "display_data"
    }
   ],
   "source": [
    "# KNN \n",
    "KNN_model = KNeighborsClassifier(n_neighbors = 3)\n",
    "\n",
    "# Train the model on training data\n",
    "KNN_model.fit(X_for_RF, y_train) #For sklearn no one hot encoding\n",
    "\n",
    "# Send test data through same feature extractor process\n",
    "X_test_feature = VGG_model.predict(x_test)\n",
    "X_test_features = X_test_feature.reshape(X_test_feature.shape[0], -1)\n",
    "\n",
    "# Now predict using the trained KNN model. \n",
    "prediction_RF = KNN_model.predict(X_test_features)\n",
    "# Inverse le transform to get original label back. \n",
    "prediction_RF = le.inverse_transform(prediction_RF)\n",
    "\n",
    "# Print overall accuracy\n",
    "from sklearn import metrics\n",
    "print (\"Accuracy = \", metrics.accuracy_score(test_labels, prediction_RF))\n",
    "\n",
    "# Confusion Matrix - verify accuracy of each class\n",
    "from sklearn.metrics import confusion_matrix\n",
    "\n",
    "cm = confusion_matrix(test_labels, prediction_RF)\n",
    "# print(cm)\n",
    "sns.heatmap(cm, annot=True)"
   ]
  },
  {
   "cell_type": "code",
   "execution_count": 22,
   "metadata": {},
   "outputs": [
    {
     "name": "stdout",
     "output_type": "stream",
     "text": [
      "Accuracy =  0.72875\n"
     ]
    },
    {
     "data": {
      "text/plain": [
       "<matplotlib.axes._subplots.AxesSubplot at 0x1d1b2bd27c0>"
      ]
     },
     "execution_count": 22,
     "metadata": {},
     "output_type": "execute_result"
    },
    {
     "data": {
      "image/png": "[encoded data removed]",
      "text/plain": [
       "<Figure size 432x288 with 2 Axes>"
      ]
     },
     "metadata": {
      "needs_background": "light"
     },
     "output_type": "display_data"
    }
   ],
   "source": [
    "# KNN \n",
    "KNN_model = KNeighborsClassifier(n_neighbors = 7)\n",
    "\n",
    "# Train the model on training data\n",
    "KNN_model.fit(X_for_RF, y_train) #For sklearn no one hot encoding\n",
    "\n",
    "# Send test data through same feature extractor process\n",
    "X_test_feature = VGG_model.predict(x_test)\n",
    "X_test_features = X_test_feature.reshape(X_test_feature.shape[0], -1)\n",
    "\n",
    "# Now predict using the trained KNN model. \n",
    "prediction_RF = KNN_model.predict(X_test_features)\n",
    "# Inverse le transform to get original label back. \n",
    "prediction_RF = le.inverse_transform(prediction_RF)\n",
    "\n",
    "# Print overall accuracy\n",
    "from sklearn import metrics\n",
    "print (\"Accuracy = \", metrics.accuracy_score(test_labels, prediction_RF))\n",
    "\n",
    "# Confusion Matrix - verify accuracy of each class\n",
    "from sklearn.metrics import confusion_matrix\n",
    "\n",
    "cm = confusion_matrix(test_labels, prediction_RF)\n",
    "# print(cm)\n",
    "sns.heatmap(cm, annot=True)"
   ]
  },
  {
   "cell_type": "code",
   "execution_count": 24,
   "metadata": {},
   "outputs": [
    {
     "name": "stdout",
     "output_type": "stream",
     "text": [
      "Accuracy =  0.75375\n"
     ]
    },
    {
     "data": {
      "text/plain": [
       "<matplotlib.axes._subplots.AxesSubplot at 0x1d1b2d52790>"
      ]
     },
     "execution_count": 24,
     "metadata": {},
     "output_type": "execute_result"
    },
    {
     "data": {
      "image/png": "[encoded data removed]",
      "text/plain": [
       "<Figure size 432x288 with 2 Axes>"
      ]
     },
     "metadata": {
      "needs_background": "light"
     },
     "output_type": "display_data"
    }
   ],
   "source": [
    "# KNN \n",
    "KNN_model = KNeighborsClassifier(n_neighbors = 7, p = 1)\n",
    "\n",
    "# Train the model on training data\n",
    "KNN_model.fit(X_for_RF, y_train) #For sklearn no one hot encoding\n",
    "\n",
    "# Send test data through same feature extractor process\n",
    "X_test_feature = VGG_model.predict(x_test)\n",
    "X_test_features = X_test_feature.reshape(X_test_feature.shape[0], -1)\n",
    "\n",
    "# Now predict using the trained KNN model. \n",
    "prediction_RF = KNN_model.predict(X_test_features)\n",
    "# Inverse le transform to get original label back. \n",
    "prediction_RF = le.inverse_transform(prediction_RF)\n",
    "\n",
    "# Print overall accuracy\n",
    "from sklearn import metrics\n",
    "print (\"Accuracy = \", metrics.accuracy_score(test_labels, prediction_RF))\n",
    "\n",
    "# Confusion Matrix - verify accuracy of each class\n",
    "from sklearn.metrics import confusion_matrix\n",
    "\n",
    "cm = confusion_matrix(test_labels, prediction_RF)\n",
    "# print(cm)\n",
    "sns.heatmap(cm, annot=True)"
   ]
  },
  {
   "cell_type": "code",
   "execution_count": 25,
   "metadata": {},
   "outputs": [
    {
     "name": "stdout",
     "output_type": "stream",
     "text": [
      "Accuracy =  0.71875\n"
     ]
    },
    {
     "data": {
      "text/plain": [
       "<matplotlib.axes._subplots.AxesSubplot at 0x1d1b1c8e0d0>"
      ]
     },
     "execution_count": 25,
     "metadata": {},
     "output_type": "execute_result"
    },
    {
     "data": {
      "image/png": "[encoded data removed]",
      "text/plain": [
       "<Figure size 432x288 with 2 Axes>"
      ]
     },
     "metadata": {
      "needs_background": "light"
     },
     "output_type": "display_data"
    }
   ],
   "source": [
    "# KNN \n",
    "KNN_model = KNeighborsClassifier(n_neighbors = 7, p = 3)\n",
    "\n",
    "# Train the model on training data\n",
    "KNN_model.fit(X_for_RF, y_train) #For sklearn no one hot encoding\n",
    "\n",
    "# Send test data through same feature extractor process\n",
    "X_test_feature = VGG_model.predict(x_test)\n",
    "X_test_features = X_test_feature.reshape(X_test_feature.shape[0], -1)\n",
    "\n",
    "# Now predict using the trained KNN model. \n",
    "prediction_RF = KNN_model.predict(X_test_features)\n",
    "# Inverse le transform to get original label back. \n",
    "prediction_RF = le.inverse_transform(prediction_RF)\n",
    "\n",
    "# Print overall accuracy\n",
    "from sklearn import metrics\n",
    "print (\"Accuracy = \", metrics.accuracy_score(test_labels, prediction_RF))\n",
    "\n",
    "# Confusion Matrix - verify accuracy of each class\n",
    "from sklearn.metrics import confusion_matrix\n",
    "\n",
    "cm = confusion_matrix(test_labels, prediction_RF)\n",
    "# print(cm)\n",
    "sns.heatmap(cm, annot=True)"
   ]
  },
  {
   "cell_type": "code",
   "execution_count": 53,
   "metadata": {},
   "outputs": [],
   "source": [
    "import pandas as pd\n",
    "results=pd.DataFrame({\"Predictions\":prediction_RF})\n",
    "results.to_csv(\"C:/Users/leona/OneDrive/DSA4199/NIST-Classification/Model-Training-Raw-KNN.csv\",index=False)"
   ]
  },
  {
   "cell_type": "code",
   "execution_count": 79,
   "metadata": {},
   "outputs": [
    {
     "name": "stdout",
     "output_type": "stream",
     "text": [
      "Accuracy =  0.85375\n"
     ]
    },
    {
     "data": {
      "text/plain": [
       "<matplotlib.axes._subplots.AxesSubplot at 0x1fcd3681a00>"
      ]
     },
     "execution_count": 79,
     "metadata": {},
     "output_type": "execute_result"
    },
    {
     "data": {
      "image/png": "[encoded data removed]",
      "text/plain": [
       "<Figure size 432x288 with 2 Axes>"
      ]
     },
     "metadata": {
      "needs_background": "light"
     },
     "output_type": "display_data"
    }
   ],
   "source": [
    "# LR\n",
    "from sklearn import svm\n",
    "from sklearn import model_selection\n",
    "from sklearn.linear_model import LogisticRegression\n",
    "from sklearn.model_selection import train_test_split\n",
    "from sklearn.model_selection import GridSearchCV\n",
    "from sklearn.neighbors import KNeighborsClassifier\n",
    "from sklearn.tree import DecisionTreeClassifier\n",
    "from sklearn.ensemble import RandomForestClassifier\n",
    "LR_model = LogisticRegression(C=1, max_iter=3000)\n",
    "\n",
    "# Train the model on training data\n",
    "LR_model.fit(X_for_RF, y_train) #For sklearn no one hot encoding\n",
    "\n",
    "# Send test data through same feature extractor process\n",
    "X_test_feature = VGG_model.predict(x_test)\n",
    "X_test_features = X_test_feature.reshape(X_test_feature.shape[0], -1)\n",
    "\n",
    "# Now predict using the trained LR model. \n",
    "prediction_RF = LR_model.predict(X_test_features)\n",
    "# Inverse le transform to get original label back. \n",
    "prediction_RF = le.inverse_transform(prediction_RF)\n",
    "\n",
    "# Print overall accuracy\n",
    "from sklearn import metrics\n",
    "print (\"Accuracy = \", metrics.accuracy_score(test_labels, prediction_RF))\n",
    "\n",
    "# Confusion Matrix - verify accuracy of each class\n",
    "from sklearn.metrics import confusion_matrix\n",
    "\n",
    "cm = confusion_matrix(test_labels, prediction_RF)\n",
    "# print(cm)\n",
    "sns.heatmap(cm, annot=True)"
   ]
  },
  {
   "cell_type": "code",
   "execution_count": 26,
   "metadata": {},
   "outputs": [
    {
     "name": "stderr",
     "output_type": "stream",
     "text": [
      "C:\\Users\\leona\\anaconda3\\lib\\site-packages\\scipy\\optimize\\linesearch.py:327: LineSearchWarning: The line search algorithm did not converge\n",
      "  warn('The line search algorithm did not converge', LineSearchWarning)\n",
      "C:\\Users\\leona\\anaconda3\\lib\\site-packages\\sklearn\\utils\\optimize.py:204: UserWarning: Line Search failed\n",
      "  warnings.warn('Line Search failed')\n"
     ]
    },
    {
     "name": "stdout",
     "output_type": "stream",
     "text": [
      "Accuracy =  0.85375\n"
     ]
    },
    {
     "data": {
      "text/plain": [
       "<matplotlib.axes._subplots.AxesSubplot at 0x1d1d5adc280>"
      ]
     },
     "execution_count": 26,
     "metadata": {},
     "output_type": "execute_result"
    },
    {
     "data": {
      "image/png": "[encoded data removed]",
      "text/plain": [
       "<Figure size 432x288 with 2 Axes>"
      ]
     },
     "metadata": {
      "needs_background": "light"
     },
     "output_type": "display_data"
    }
   ],
   "source": [
    "# LR\n",
    "from sklearn import svm\n",
    "from sklearn import model_selection\n",
    "from sklearn.linear_model import LogisticRegression\n",
    "from sklearn.model_selection import train_test_split\n",
    "from sklearn.model_selection import GridSearchCV\n",
    "from sklearn.neighbors import KNeighborsClassifier\n",
    "from sklearn.tree import DecisionTreeClassifier\n",
    "from sklearn.ensemble import RandomForestClassifier\n",
    "LR_model = LogisticRegression(C=1, solver = 'newton-cg', max_iter=3000)\n",
    "\n",
    "# Train the model on training data\n",
    "LR_model.fit(X_for_RF, y_train) #For sklearn no one hot encoding\n",
    "\n",
    "# Send test data through same feature extractor process\n",
    "X_test_feature = VGG_model.predict(x_test)\n",
    "X_test_features = X_test_feature.reshape(X_test_feature.shape[0], -1)\n",
    "\n",
    "# Now predict using the trained LR model. \n",
    "prediction_RF = LR_model.predict(X_test_features)\n",
    "# Inverse le transform to get original label back. \n",
    "prediction_RF = le.inverse_transform(prediction_RF)\n",
    "\n",
    "# Print overall accuracy\n",
    "from sklearn import metrics\n",
    "print (\"Accuracy = \", metrics.accuracy_score(test_labels, prediction_RF))\n",
    "\n",
    "# Confusion Matrix - verify accuracy of each class\n",
    "from sklearn.metrics import confusion_matrix\n",
    "\n",
    "cm = confusion_matrix(test_labels, prediction_RF)\n",
    "# print(cm)\n",
    "sns.heatmap(cm, annot=True)"
   ]
  },
  {
   "cell_type": "code",
   "execution_count": 27,
   "metadata": {},
   "outputs": [
    {
     "name": "stdout",
     "output_type": "stream",
     "text": [
      "Accuracy =  0.85375\n"
     ]
    },
    {
     "data": {
      "text/plain": [
       "<matplotlib.axes._subplots.AxesSubplot at 0x1d1b8de40a0>"
      ]
     },
     "execution_count": 27,
     "metadata": {},
     "output_type": "execute_result"
    },
    {
     "data": {
      "image/png": "[encoded data removed]",
      "text/plain": [
       "<Figure size 432x288 with 2 Axes>"
      ]
     },
     "metadata": {
      "needs_background": "light"
     },
     "output_type": "display_data"
    }
   ],
   "source": [
    "# LR\n",
    "from sklearn import svm\n",
    "from sklearn import model_selection\n",
    "from sklearn.linear_model import LogisticRegression\n",
    "from sklearn.model_selection import train_test_split\n",
    "from sklearn.model_selection import GridSearchCV\n",
    "from sklearn.neighbors import KNeighborsClassifier\n",
    "from sklearn.tree import DecisionTreeClassifier\n",
    "from sklearn.ensemble import RandomForestClassifier\n",
    "LR_model = LogisticRegression(C=1, solver = 'sag', max_iter=3000)\n",
    "\n",
    "# Train the model on training data\n",
    "LR_model.fit(X_for_RF, y_train) #For sklearn no one hot encoding\n",
    "\n",
    "# Send test data through same feature extractor process\n",
    "X_test_feature = VGG_model.predict(x_test)\n",
    "X_test_features = X_test_feature.reshape(X_test_feature.shape[0], -1)\n",
    "\n",
    "# Now predict using the trained LR model. \n",
    "prediction_RF = LR_model.predict(X_test_features)\n",
    "# Inverse le transform to get original label back. \n",
    "prediction_RF = le.inverse_transform(prediction_RF)\n",
    "\n",
    "# Print overall accuracy\n",
    "from sklearn import metrics\n",
    "print (\"Accuracy = \", metrics.accuracy_score(test_labels, prediction_RF))\n",
    "\n",
    "# Confusion Matrix - verify accuracy of each class\n",
    "from sklearn.metrics import confusion_matrix\n",
    "\n",
    "cm = confusion_matrix(test_labels, prediction_RF)\n",
    "# print(cm)\n",
    "sns.heatmap(cm, annot=True)"
   ]
  },
  {
   "cell_type": "code",
   "execution_count": 28,
   "metadata": {},
   "outputs": [
    {
     "name": "stdout",
     "output_type": "stream",
     "text": [
      "Accuracy =  0.855\n"
     ]
    },
    {
     "data": {
      "text/plain": [
       "<matplotlib.axes._subplots.AxesSubplot at 0x1d1b8e08c10>"
      ]
     },
     "execution_count": 28,
     "metadata": {},
     "output_type": "execute_result"
    },
    {
     "data": {
      "image/png": "[encoded data removed]",
      "text/plain": [
       "<Figure size 432x288 with 2 Axes>"
      ]
     },
     "metadata": {
      "needs_background": "light"
     },
     "output_type": "display_data"
    }
   ],
   "source": [
    "# LR\n",
    "from sklearn import svm\n",
    "from sklearn import model_selection\n",
    "from sklearn.linear_model import LogisticRegression\n",
    "from sklearn.model_selection import train_test_split\n",
    "from sklearn.model_selection import GridSearchCV\n",
    "from sklearn.neighbors import KNeighborsClassifier\n",
    "from sklearn.tree import DecisionTreeClassifier\n",
    "from sklearn.ensemble import RandomForestClassifier\n",
    "LR_model = LogisticRegression(C=0.1, max_iter=3000)\n",
    "\n",
    "# Train the model on training data\n",
    "LR_model.fit(X_for_RF, y_train) #For sklearn no one hot encoding\n",
    "\n",
    "# Send test data through same feature extractor process\n",
    "X_test_feature = VGG_model.predict(x_test)\n",
    "X_test_features = X_test_feature.reshape(X_test_feature.shape[0], -1)\n",
    "\n",
    "# Now predict using the trained LR model. \n",
    "prediction_RF = LR_model.predict(X_test_features)\n",
    "# Inverse le transform to get original label back. \n",
    "prediction_RF = le.inverse_transform(prediction_RF)\n",
    "\n",
    "# Print overall accuracy\n",
    "from sklearn import metrics\n",
    "print (\"Accuracy = \", metrics.accuracy_score(test_labels, prediction_RF))\n",
    "\n",
    "# Confusion Matrix - verify accuracy of each class\n",
    "from sklearn.metrics import confusion_matrix\n",
    "\n",
    "cm = confusion_matrix(test_labels, prediction_RF)\n",
    "# print(cm)\n",
    "sns.heatmap(cm, annot=True)"
   ]
  },
  {
   "cell_type": "code",
   "execution_count": 29,
   "metadata": {},
   "outputs": [
    {
     "name": "stdout",
     "output_type": "stream",
     "text": [
      "Accuracy =  0.8525\n"
     ]
    },
    {
     "data": {
      "text/plain": [
       "<matplotlib.axes._subplots.AxesSubplot at 0x1d1b195e820>"
      ]
     },
     "execution_count": 29,
     "metadata": {},
     "output_type": "execute_result"
    },
    {
     "data": {
      "image/png": "[encoded data removed]",
      "text/plain": [
       "<Figure size 432x288 with 2 Axes>"
      ]
     },
     "metadata": {
      "needs_background": "light"
     },
     "output_type": "display_data"
    }
   ],
   "source": [
    "# LR\n",
    "from sklearn import svm\n",
    "from sklearn import model_selection\n",
    "from sklearn.linear_model import LogisticRegression\n",
    "from sklearn.model_selection import train_test_split\n",
    "from sklearn.model_selection import GridSearchCV\n",
    "from sklearn.neighbors import KNeighborsClassifier\n",
    "from sklearn.tree import DecisionTreeClassifier\n",
    "from sklearn.ensemble import RandomForestClassifier\n",
    "LR_model = LogisticRegression(C=10, max_iter=3000)\n",
    "\n",
    "# Train the model on training data\n",
    "LR_model.fit(X_for_RF, y_train) #For sklearn no one hot encoding\n",
    "\n",
    "# Send test data through same feature extractor process\n",
    "X_test_feature = VGG_model.predict(x_test)\n",
    "X_test_features = X_test_feature.reshape(X_test_feature.shape[0], -1)\n",
    "\n",
    "# Now predict using the trained LR model. \n",
    "prediction_RF = LR_model.predict(X_test_features)\n",
    "# Inverse le transform to get original label back. \n",
    "prediction_RF = le.inverse_transform(prediction_RF)\n",
    "\n",
    "# Print overall accuracy\n",
    "from sklearn import metrics\n",
    "print (\"Accuracy = \", metrics.accuracy_score(test_labels, prediction_RF))\n",
    "\n",
    "# Confusion Matrix - verify accuracy of each class\n",
    "from sklearn.metrics import confusion_matrix\n",
    "\n",
    "cm = confusion_matrix(test_labels, prediction_RF)\n",
    "# print(cm)\n",
    "sns.heatmap(cm, annot=True)"
   ]
  },
  {
   "cell_type": "code",
   "execution_count": 80,
   "metadata": {},
   "outputs": [],
   "source": [
    "import pandas as pd\n",
    "results=pd.DataFrame({\"Predictions\":prediction_RF})\n",
    "results.to_csv(\"C:/Users/leona/OneDrive/DSA4199/NIST-Classification/Model-PCA-Preprocessed-LR.csv\",index=False)"
   ]
  },
  {
   "cell_type": "code",
   "execution_count": 35,
   "metadata": {},
   "outputs": [
    {
     "name": "stdout",
     "output_type": "stream",
     "text": [
      "[14:40:53] WARNING: C:/Users/Administrator/workspace/xgboost-win64_release_1.5.1/src/learner.cc:1115: Starting in XGBoost 1.3.0, the default evaluation metric used with the objective 'multi:softprob' was changed from 'merror' to 'mlogloss'. Explicitly set eval_metric if you'd like to restore the old behavior.\n",
      "Accuracy =  0.8575\n"
     ]
    },
    {
     "data": {
      "text/plain": [
       "<matplotlib.axes._subplots.AxesSubplot at 0x1d1b33b61f0>"
      ]
     },
     "execution_count": 35,
     "metadata": {},
     "output_type": "execute_result"
    },
    {
     "data": {
      "image/png": "[encoded data removed]",
      "text/plain": [
       "<Figure size 432x288 with 2 Axes>"
      ]
     },
     "metadata": {
      "needs_background": "light"
     },
     "output_type": "display_data"
    }
   ],
   "source": [
    "# XGBOOST\n",
    "import xgboost as xgb\n",
    "# XG_model = xgb.XGBClassifier()\n",
    "XG_model = xgb.XGBClassifier()\n",
    "XG_model.fit(X_for_RF, y_train) #For sklearn no one hot encoding\n",
    "\n",
    "# Send test data through same feature extractor process\n",
    "X_test_feature = VGG_model.predict(x_test)\n",
    "X_test_features = X_test_feature.reshape(X_test_feature.shape[0], -1)\n",
    "\n",
    "# Now predict using the trained XGB model. \n",
    "prediction_RF = XG_model.predict(X_test_features)\n",
    "# Inverse le transform to get original label back. \n",
    "prediction_RF = le.inverse_transform(prediction_RF)\n",
    "\n",
    "# Print overall accuracy\n",
    "from sklearn import metrics\n",
    "print (\"Accuracy = \", metrics.accuracy_score(test_labels, prediction_RF))\n",
    "\n",
    "# Confusion Matrix - verify accuracy of each class\n",
    "from sklearn.metrics import confusion_matrix\n",
    "\n",
    "cm = confusion_matrix(test_labels, prediction_RF)\n",
    "# print(cm)\n",
    "sns.heatmap(cm, annot=True)\n"
   ]
  },
  {
   "cell_type": "code",
   "execution_count": 31,
   "metadata": {},
   "outputs": [
    {
     "name": "stdout",
     "output_type": "stream",
     "text": [
      "[13:04:19] WARNING: C:/Users/Administrator/workspace/xgboost-win64_release_1.5.1/src/learner.cc:1115: Starting in XGBoost 1.3.0, the default evaluation metric used with the objective 'multi:softprob' was changed from 'merror' to 'mlogloss'. Explicitly set eval_metric if you'd like to restore the old behavior.\n",
      "Accuracy =  0.84375\n"
     ]
    },
    {
     "data": {
      "text/plain": [
       "<matplotlib.axes._subplots.AxesSubplot at 0x1d1b2f4c3d0>"
      ]
     },
     "execution_count": 31,
     "metadata": {},
     "output_type": "execute_result"
    },
    {
     "data": {
      "image/png": "[encoded data removed]",
      "text/plain": [
       "<Figure size 432x288 with 2 Axes>"
      ]
     },
     "metadata": {
      "needs_background": "light"
     },
     "output_type": "display_data"
    }
   ],
   "source": [
    "# XGBOOST\n",
    "import xgboost as xgb\n",
    "# XG_model = xgb.XGBClassifier()\n",
    "XG_model = xgb.XGBClassifier(learning_rate=0.05)\n",
    "XG_model.fit(X_for_RF, y_train) #For sklearn no one hot encoding\n",
    "\n",
    "# Send test data through same feature extractor process\n",
    "X_test_feature = VGG_model.predict(x_test)\n",
    "X_test_features = X_test_feature.reshape(X_test_feature.shape[0], -1)\n",
    "\n",
    "# Now predict using the trained XGB model. \n",
    "prediction_RF = XG_model.predict(X_test_features)\n",
    "# Inverse le transform to get original label back. \n",
    "prediction_RF = le.inverse_transform(prediction_RF)\n",
    "\n",
    "# Print overall accuracy\n",
    "from sklearn import metrics\n",
    "print (\"Accuracy = \", metrics.accuracy_score(test_labels, prediction_RF))\n",
    "\n",
    "# Confusion Matrix - verify accuracy of each class\n",
    "from sklearn.metrics import confusion_matrix\n",
    "\n",
    "cm = confusion_matrix(test_labels, prediction_RF)\n",
    "# print(cm)\n",
    "sns.heatmap(cm, annot=True)\n"
   ]
  },
  {
   "cell_type": "code",
   "execution_count": 32,
   "metadata": {},
   "outputs": [
    {
     "name": "stdout",
     "output_type": "stream",
     "text": [
      "[13:27:29] WARNING: C:/Users/Administrator/workspace/xgboost-win64_release_1.5.1/src/learner.cc:1115: Starting in XGBoost 1.3.0, the default evaluation metric used with the objective 'multi:softprob' was changed from 'merror' to 'mlogloss'. Explicitly set eval_metric if you'd like to restore the old behavior.\n",
      "Accuracy =  0.81875\n"
     ]
    },
    {
     "data": {
      "text/plain": [
       "<matplotlib.axes._subplots.AxesSubplot at 0x1d1b3007040>"
      ]
     },
     "execution_count": 32,
     "metadata": {},
     "output_type": "execute_result"
    },
    {
     "data": {
      "image/png": "[encoded data removed]",
      "text/plain": [
       "<Figure size 432x288 with 2 Axes>"
      ]
     },
     "metadata": {
      "needs_background": "light"
     },
     "output_type": "display_data"
    }
   ],
   "source": [
    "# XGBOOST\n",
    "import xgboost as xgb\n",
    "# XG_model = xgb.XGBClassifier()\n",
    "XG_model = xgb.XGBClassifier(learning_rate=0.01)\n",
    "XG_model.fit(X_for_RF, y_train) #For sklearn no one hot encoding\n",
    "\n",
    "# Send test data through same feature extractor process\n",
    "X_test_feature = VGG_model.predict(x_test)\n",
    "X_test_features = X_test_feature.reshape(X_test_feature.shape[0], -1)\n",
    "\n",
    "# Now predict using the trained XGB model. \n",
    "prediction_RF = XG_model.predict(X_test_features)\n",
    "# Inverse le transform to get original label back. \n",
    "prediction_RF = le.inverse_transform(prediction_RF)\n",
    "\n",
    "# Print overall accuracy\n",
    "from sklearn import metrics\n",
    "print (\"Accuracy = \", metrics.accuracy_score(test_labels, prediction_RF))\n",
    "\n",
    "# Confusion Matrix - verify accuracy of each class\n",
    "from sklearn.metrics import confusion_matrix\n",
    "\n",
    "cm = confusion_matrix(test_labels, prediction_RF)\n",
    "# print(cm)\n",
    "sns.heatmap(cm, annot=True)\n"
   ]
  },
  {
   "cell_type": "code",
   "execution_count": 33,
   "metadata": {},
   "outputs": [
    {
     "name": "stdout",
     "output_type": "stream",
     "text": [
      "[13:54:58] WARNING: C:/Users/Administrator/workspace/xgboost-win64_release_1.5.1/src/learner.cc:1115: Starting in XGBoost 1.3.0, the default evaluation metric used with the objective 'multi:softprob' was changed from 'merror' to 'mlogloss'. Explicitly set eval_metric if you'd like to restore the old behavior.\n",
      "Accuracy =  0.8225\n"
     ]
    },
    {
     "data": {
      "text/plain": [
       "<matplotlib.axes._subplots.AxesSubplot at 0x1d1b30cc130>"
      ]
     },
     "execution_count": 33,
     "metadata": {},
     "output_type": "execute_result"
    },
    {
     "data": {
      "image/png": "[encoded data removed]",
      "text/plain": [
       "<Figure size 432x288 with 2 Axes>"
      ]
     },
     "metadata": {
      "needs_background": "light"
     },
     "output_type": "display_data"
    }
   ],
   "source": [
    "# XGBOOST\n",
    "import xgboost as xgb\n",
    "# XG_model = xgb.XGBClassifier()\n",
    "XG_model = xgb.XGBClassifier(n_estimators=10)\n",
    "XG_model.fit(X_for_RF, y_train) #For sklearn no one hot encoding\n",
    "\n",
    "# Send test data through same feature extractor process\n",
    "X_test_feature = VGG_model.predict(x_test)\n",
    "X_test_features = X_test_feature.reshape(X_test_feature.shape[0], -1)\n",
    "\n",
    "# Now predict using the trained XGB model. \n",
    "prediction_RF = XG_model.predict(X_test_features)\n",
    "# Inverse le transform to get original label back. \n",
    "prediction_RF = le.inverse_transform(prediction_RF)\n",
    "\n",
    "# Print overall accuracy\n",
    "from sklearn import metrics\n",
    "print (\"Accuracy = \", metrics.accuracy_score(test_labels, prediction_RF))\n",
    "\n",
    "# Confusion Matrix - verify accuracy of each class\n",
    "from sklearn.metrics import confusion_matrix\n",
    "\n",
    "cm = confusion_matrix(test_labels, prediction_RF)\n",
    "# print(cm)\n",
    "sns.heatmap(cm, annot=True)\n"
   ]
  },
  {
   "cell_type": "code",
   "execution_count": 34,
   "metadata": {},
   "outputs": [
    {
     "name": "stdout",
     "output_type": "stream",
     "text": [
      "[14:00:02] WARNING: C:/Users/Administrator/workspace/xgboost-win64_release_1.5.1/src/learner.cc:1115: Starting in XGBoost 1.3.0, the default evaluation metric used with the objective 'multi:softprob' was changed from 'merror' to 'mlogloss'. Explicitly set eval_metric if you'd like to restore the old behavior.\n",
      "Accuracy =  0.85625\n"
     ]
    },
    {
     "data": {
      "text/plain": [
       "<matplotlib.axes._subplots.AxesSubplot at 0x1d1b32e0d90>"
      ]
     },
     "execution_count": 34,
     "metadata": {},
     "output_type": "execute_result"
    },
    {
     "data": {
      "image/png": "[encoded data removed]",
      "text/plain": [
       "<Figure size 432x288 with 2 Axes>"
      ]
     },
     "metadata": {
      "needs_background": "light"
     },
     "output_type": "display_data"
    }
   ],
   "source": [
    "# XGBOOST\n",
    "import xgboost as xgb\n",
    "# XG_model = xgb.XGBClassifier()\n",
    "XG_model = xgb.XGBClassifier(n_estimators=1000)\n",
    "XG_model.fit(X_for_RF, y_train) #For sklearn no one hot encoding\n",
    "\n",
    "# Send test data through same feature extractor process\n",
    "X_test_feature = VGG_model.predict(x_test)\n",
    "X_test_features = X_test_feature.reshape(X_test_feature.shape[0], -1)\n",
    "\n",
    "# Now predict using the trained XGB model. \n",
    "prediction_RF = XG_model.predict(X_test_features)\n",
    "# Inverse le transform to get original label back. \n",
    "prediction_RF = le.inverse_transform(prediction_RF)\n",
    "\n",
    "# Print overall accuracy\n",
    "from sklearn import metrics\n",
    "print (\"Accuracy = \", metrics.accuracy_score(test_labels, prediction_RF))\n",
    "\n",
    "# Confusion Matrix - verify accuracy of each class\n",
    "from sklearn.metrics import confusion_matrix\n",
    "\n",
    "cm = confusion_matrix(test_labels, prediction_RF)\n",
    "# print(cm)\n",
    "sns.heatmap(cm, annot=True)\n"
   ]
  },
  {
   "cell_type": "code",
   "execution_count": 36,
   "metadata": {},
   "outputs": [],
   "source": [
    "# Save Model Using Pickle\n",
    "import pandas\n",
    "from sklearn import model_selection\n",
    "from sklearn.linear_model import LogisticRegression\n",
    "import pickle\n",
    "# save the model to disk\n",
    "filename = 'xgb_pca_preprocessed_model2.sav'\n",
    "pickle.dump(XG_model, open(filename, 'wb'))\n",
    " \n",
    "# some time later...\n",
    " \n",
    "# load the model from disk\n",
    "# loaded_model = pickle.load(open(filename, 'rb'))\n",
    "# result = loaded_model.score(X_test, Y_test)\n",
    "# print(result)"
   ]
  },
  {
   "cell_type": "code",
   "execution_count": 37,
   "metadata": {},
   "outputs": [],
   "source": [
    "import pandas as pd\n",
    "results=pd.DataFrame({\"Predictions\":prediction_RF})\n",
    "results.to_csv(\"C:/Users/leona/OneDrive/DSA4199/NIST-Classification/Model-PCA-Preprocessed-XGB2.csv\",index=False)"
   ]
  },
  {
   "cell_type": "code",
   "execution_count": 5,
   "metadata": {},
   "outputs": [],
   "source": [
    "import pandas as pd\n",
    "results=pd.DataFrame({\"Predictions\":prediction_RF})\n",
    "results.to_csv(\"C:/Users/leona/OneDrive/DSA4199/NIST-Classification/Model-PCA-Preprocessed-XGBtune2.csv\",index=False)"
   ]
  }
 ],
 "metadata": {
  "kernelspec": {
   "display_name": "Python 3",
   "language": "python",
   "name": "python3"
  },
  "language_info": {
   "codemirror_mode": {
    "name": "ipython",
    "version": 3
   },
   "file_extension": ".py",
   "mimetype": "text/x-python",
   "name": "python",
   "nbconvert_exporter": "python",
   "pygments_lexer": "ipython3",
   "version": "3.8.3"
  }
 },
 "nbformat": 4,
 "nbformat_minor": 4
}
