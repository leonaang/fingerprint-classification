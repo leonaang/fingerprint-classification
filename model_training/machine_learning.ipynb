{
 "cells": [
  {
   "cell_type": "markdown",
   "metadata": {},
   "source": [
    "## Logistic Regression, SVM, KNN, Random Forest, XGBoost on Raw Data"
   ]
  },
  {
   "cell_type": "code",
   "execution_count": 1,
   "metadata": {},
   "outputs": [],
   "source": [
    "import scipy.io\n",
    "import numpy as np\n",
    "import matplotlib.pyplot as plt"
   ]
  },
  {
   "cell_type": "code",
   "execution_count": 9,
   "metadata": {},
   "outputs": [],
   "source": [
    "from sklearn import svm\n",
    "from sklearn import model_selection\n",
    "from sklearn.linear_model import LogisticRegression\n",
    "from sklearn.model_selection import train_test_split\n",
    "from sklearn.model_selection import GridSearchCV\n",
    "from sklearn.neighbors import KNeighborsClassifier\n",
    "from sklearn.tree import DecisionTreeClassifier\n",
    "from sklearn.ensemble import RandomForestClassifier\n",
    "import xgboost as xgb"
   ]
  },
  {
   "cell_type": "code",
   "execution_count": 1,
   "metadata": {},
   "outputs": [],
   "source": [
    "# RAW IMAGES\n",
    "# extract the training images and labels \n",
    "import os\n",
    "data = ['C:/Users/leona/OneDrive/DSA4199/NIST-Classification/Training - Raw/Train/A/' + s for s in os.listdir('C:/Users/leona/OneDrive/DSA4199/NIST-Classification/Training - Raw/Train/A')]\n",
    "data.extend(['C:/Users/leona/OneDrive/DSA4199/NIST-Classification/Training - Raw/Train/LL/' + s for s in os.listdir('C:/Users/leona/OneDrive/DSA4199/NIST-Classification/Training - Raw/Train/LL')])\n",
    "data.extend(['C:/Users/leona/OneDrive/DSA4199/NIST-Classification/Training - Raw/Train/RL/' + s for s in os.listdir('C:/Users/leona/OneDrive/DSA4199/NIST-Classification/Training - Raw/Train/RL')])\n",
    "data.extend(['C:/Users/leona/OneDrive/DSA4199/NIST-Classification/Training - Raw/Train/TA/' + s for s in os.listdir('C:/Users/leona/OneDrive/DSA4199/NIST-Classification/Training - Raw/Train/TA')])\n",
    "data.extend(['C:/Users/leona/OneDrive/DSA4199/NIST-Classification/Training - Raw/Train/W/' + s for s in os.listdir('C:/Users/leona/OneDrive/DSA4199/NIST-Classification/Training - Raw/Train/W')])\n",
    "\n",
    "from matplotlib import pyplot as plt\n",
    "import numpy as np\n",
    "import cv2\n",
    "import sys\n",
    "\n",
    "X_train = []\n",
    "for x in range(len(data)):\n",
    "    img = cv2.imread(data[x],0)\n",
    "    X_train.append(img)"
   ]
  },
  {
   "cell_type": "code",
   "execution_count": 8,
   "metadata": {},
   "outputs": [],
   "source": [
    "y_train = []\n",
    "y_train.extend('A' for i in range(637))\n",
    "y_train.extend('LL' for i in range(627))\n",
    "y_train.extend('RL' for i in range(660))\n",
    "y_train.extend('TA' for i in range(645))\n",
    "y_train.extend('W' for i in range(630))"
   ]
  },
  {
   "cell_type": "code",
   "execution_count": 4,
   "metadata": {},
   "outputs": [],
   "source": [
    "# RAW IMAGES\n",
    "# extract the test images and labels \n",
    "import os\n",
    "datat = ['C:/Users/leona/OneDrive/DSA4199/NIST-Classification/Training - Raw/Test/A/' + s for s in os.listdir('C:/Users/leona/OneDrive/DSA4199/NIST-Classification/Training - Raw/Test/A')]\n",
    "datat.extend(['C:/Users/leona/OneDrive/DSA4199/NIST-Classification/Training - Raw/Test/LL/' + s for s in os.listdir('C:/Users/leona/OneDrive/DSA4199/NIST-Classification/Training - Raw/Test/LL')])\n",
    "datat.extend(['C:/Users/leona/OneDrive/DSA4199/NIST-Classification/Training - Raw/Test/RL/' + s for s in os.listdir('C:/Users/leona/OneDrive/DSA4199/NIST-Classification/Training - Raw/Test/RL')])\n",
    "datat.extend(['C:/Users/leona/OneDrive/DSA4199/NIST-Classification/Training - Raw/Test/TA/' + s for s in os.listdir('C:/Users/leona/OneDrive/DSA4199/NIST-Classification/Training - Raw/Test/TA')])\n",
    "datat.extend(['C:/Users/leona/OneDrive/DSA4199/NIST-Classification/Training - Raw/Test/W/' + s for s in os.listdir('C:/Users/leona/OneDrive/DSA4199/NIST-Classification/Training - Raw/Test/W')])\n",
    "\n",
    "from matplotlib import pyplot as plt\n",
    "import numpy as np\n",
    "import cv2\n",
    "import sys\n",
    "\n",
    "X_test = []\n",
    "for x in range(len(datat)):\n",
    "    img = cv2.imread(datat[x],0)\n",
    "    X_test.append(img)"
   ]
  },
  {
   "cell_type": "code",
   "execution_count": 9,
   "metadata": {},
   "outputs": [],
   "source": [
    "y_test = []\n",
    "y_test.extend('A' for i in range(164))\n",
    "y_test.extend('LL' for i in range(171))\n",
    "y_test.extend('RL' for i in range(141))\n",
    "y_test.extend('TA' for i in range(155))\n",
    "y_test.extend('W' for i in range(169))"
   ]
  },
  {
   "cell_type": "code",
   "execution_count": 10,
   "metadata": {},
   "outputs": [],
   "source": [
    "X_train = [s.reshape(s.shape[0]*s.shape[1]) for s in X_train]\n",
    "X_test = [s.reshape(s.shape[0]*s.shape[1]) for s in X_test]"
   ]
  },
  {
   "cell_type": "code",
   "execution_count": 13,
   "metadata": {},
   "outputs": [
    {
     "data": {
      "text/plain": [
       "(262144,)"
      ]
     },
     "execution_count": 13,
     "metadata": {},
     "output_type": "execute_result"
    }
   ],
   "source": [
    "X_train[0].shape"
   ]
  },
  {
   "cell_type": "code",
   "execution_count": 14,
   "metadata": {},
   "outputs": [
    {
     "name": "stdout",
     "output_type": "stream",
     "text": [
      "RandomForestClassifier()\n"
     ]
    }
   ],
   "source": [
    "clf = RandomForestClassifier()\n",
    "print(clf)"
   ]
  },
  {
   "cell_type": "code",
   "execution_count": 15,
   "metadata": {},
   "outputs": [
    {
     "data": {
      "text/plain": [
       "RandomForestClassifier()"
      ]
     },
     "execution_count": 15,
     "metadata": {},
     "output_type": "execute_result"
    }
   ],
   "source": [
    "clf.fit(X_train, y_train)"
   ]
  },
  {
   "cell_type": "code",
   "execution_count": 16,
   "metadata": {},
   "outputs": [
    {
     "data": {
      "text/plain": [
       "0.3625"
      ]
     },
     "execution_count": 16,
     "metadata": {},
     "output_type": "execute_result"
    }
   ],
   "source": [
    "clf.score(X_test,y_test)"
   ]
  },
  {
   "cell_type": "code",
   "execution_count": 18,
   "metadata": {},
   "outputs": [
    {
     "name": "stderr",
     "output_type": "stream",
     "text": [
      "C:\\Users\\leona\\anaconda3\\lib\\site-packages\\sklearn\\linear_model\\_logistic.py:762: ConvergenceWarning: lbfgs failed to converge (status=1):\n",
      "STOP: TOTAL NO. of ITERATIONS REACHED LIMIT.\n",
      "\n",
      "Increase the number of iterations (max_iter) or scale the data as shown in:\n",
      "    https://scikit-learn.org/stable/modules/preprocessing.html\n",
      "Please also refer to the documentation for alternative solver options:\n",
      "    https://scikit-learn.org/stable/modules/linear_model.html#logistic-regression\n",
      "  n_iter_i = _check_optimize_result(\n"
     ]
    },
    {
     "data": {
      "text/plain": [
       "0.26625"
      ]
     },
     "execution_count": 18,
     "metadata": {},
     "output_type": "execute_result"
    }
   ],
   "source": [
    "clf_LR = LogisticRegression(C=1,max_iter=3000)\n",
    "clf_LR.fit(X_train, y_train)\n",
    "clf_LR.score(X_test,y_test)"
   ]
  },
  {
   "cell_type": "code",
   "execution_count": 21,
   "metadata": {},
   "outputs": [
    {
     "name": "stderr",
     "output_type": "stream",
     "text": [
      "C:\\Users\\leona\\anaconda3\\lib\\site-packages\\xgboost\\sklearn.py:1224: UserWarning: The use of label encoder in XGBClassifier is deprecated and will be removed in a future release. To remove this warning, do the following: 1) Pass option use_label_encoder=False when constructing XGBClassifier object; and 2) Encode your labels (y) as integers starting with 0, i.e. 0, 1, 2, ..., [num_class - 1].\n",
      "  warnings.warn(label_encoder_deprecation_msg, UserWarning)\n"
     ]
    },
    {
     "name": "stdout",
     "output_type": "stream",
     "text": [
      "[18:08:01] WARNING: C:/Users/Administrator/workspace/xgboost-win64_release_1.5.1/src/learner.cc:1115: Starting in XGBoost 1.3.0, the default evaluation metric used with the objective 'multi:softprob' was changed from 'merror' to 'mlogloss'. Explicitly set eval_metric if you'd like to restore the old behavior.\n"
     ]
    },
    {
     "data": {
      "text/plain": [
       "0.3475"
      ]
     },
     "execution_count": 21,
     "metadata": {},
     "output_type": "execute_result"
    }
   ],
   "source": [
    "XG_model = xgb.XGBClassifier()\n",
    "XG_model.fit(X_train, y_train)\n",
    "XG_model.score(X_test,y_test)"
   ]
  },
  {
   "cell_type": "code",
   "execution_count": 22,
   "metadata": {},
   "outputs": [
    {
     "data": {
      "text/plain": [
       "0.24625"
      ]
     },
     "execution_count": 22,
     "metadata": {},
     "output_type": "execute_result"
    }
   ],
   "source": [
    "clf_KN = KNeighborsClassifier()\n",
    "clf_KN.fit(X_train,y_train)\n",
    "clf_KN.score(X_test,y_test)"
   ]
  },
  {
   "cell_type": "code",
   "execution_count": 23,
   "metadata": {},
   "outputs": [
    {
     "data": {
      "text/plain": [
       "0.35125"
      ]
     },
     "execution_count": 23,
     "metadata": {},
     "output_type": "execute_result"
    }
   ],
   "source": [
    "clf_SVC = svm.SVC()\n",
    "clf_SVC.fit(X_train,y_train)\n",
    "clf_SVC.score(X_test,y_test)"
   ]
  },
  {
   "cell_type": "markdown",
   "metadata": {},
   "source": [
    "## Logistic Regression, SVM, KNN, Random Forest, XGBoost on Preprocessed Data \n",
    "## (w/o PCA)"
   ]
  },
  {
   "cell_type": "code",
   "execution_count": 1,
   "metadata": {},
   "outputs": [],
   "source": [
    "# PREPROCESSED IMAGES\n",
    "# extract the images and labels \n",
    "import os\n",
    "data1 = ['C:/Users/leona/OneDrive/DSA4199/NIST-Classification/Training - Preprocessed/Train/A/' + s for s in os.listdir('C:/Users/leona/OneDrive/DSA4199/NIST-Classification/Training - Preprocessed/Train/A')]\n",
    "data1.extend(['C:/Users/leona/OneDrive/DSA4199/NIST-Classification/Training - Preprocessed/Train/LL/' + s for s in os.listdir('C:/Users/leona/OneDrive/DSA4199/NIST-Classification/Training - Preprocessed/Train/LL')])\n",
    "data1.extend(['C:/Users/leona/OneDrive/DSA4199/NIST-Classification/Training - Preprocessed/Train/RL/' + s for s in os.listdir('C:/Users/leona/OneDrive/DSA4199/NIST-Classification/Training - Preprocessed/Train/RL')])\n",
    "data1.extend(['C:/Users/leona/OneDrive/DSA4199/NIST-Classification/Training - Preprocessed/Train/TA/' + s for s in os.listdir('C:/Users/leona/OneDrive/DSA4199/NIST-Classification/Training - Preprocessed/Train/TA')])\n",
    "data1.extend(['C:/Users/leona/OneDrive/DSA4199/NIST-Classification/Training - Preprocessed/Train/W/' + s for s in os.listdir('C:/Users/leona/OneDrive/DSA4199/NIST-Classification/Training - Preprocessed/Train/W')])\n",
    "\n",
    "from matplotlib import pyplot as plt\n",
    "import numpy as np\n",
    "import cv2\n",
    "import sys\n",
    "\n",
    "X_train1 = []\n",
    "for x in range(len(data1)):\n",
    "    img = cv2.imread(data1[x],0)\n",
    "    X_train1.append(img)"
   ]
  },
  {
   "cell_type": "code",
   "execution_count": 3,
   "metadata": {},
   "outputs": [],
   "source": [
    "y_train1 = []\n",
    "y_train1.extend('A' for i in range(637))\n",
    "y_train1.extend('LL' for i in range(627))\n",
    "y_train1.extend('RL' for i in range(660))\n",
    "y_train1.extend('TA' for i in range(645))\n",
    "y_train1.extend('W' for i in range(630))"
   ]
  },
  {
   "cell_type": "code",
   "execution_count": 2,
   "metadata": {},
   "outputs": [],
   "source": [
    "# Preprocessed Data\n",
    "# extract the images and labels \n",
    "import os\n",
    "datat1 = ['C:/Users/leona/OneDrive/DSA4199/NIST-Classification/Training - Preprocessed/Test/A/' + s for s in os.listdir('C:/Users/leona/OneDrive/DSA4199/NIST-Classification/Training - Preprocessed/Test/A')]\n",
    "datat1.extend(['C:/Users/leona/OneDrive/DSA4199/NIST-Classification/Training - Preprocessed/Test/LL/' + s for s in os.listdir('C:/Users/leona/OneDrive/DSA4199/NIST-Classification/Training - Preprocessed/Test/LL')])\n",
    "datat1.extend(['C:/Users/leona/OneDrive/DSA4199/NIST-Classification/Training - Preprocessed/Test/RL/' + s for s in os.listdir('C:/Users/leona/OneDrive/DSA4199/NIST-Classification/Training - Preprocessed/Test/RL')])\n",
    "datat1.extend(['C:/Users/leona/OneDrive/DSA4199/NIST-Classification/Training - Preprocessed/Test/TA/' + s for s in os.listdir('C:/Users/leona/OneDrive/DSA4199/NIST-Classification/Training - Preprocessed/Test/TA')])\n",
    "datat1.extend(['C:/Users/leona/OneDrive/DSA4199/NIST-Classification/Training - Preprocessed/Test/W/' + s for s in os.listdir('C:/Users/leona/OneDrive/DSA4199/NIST-Classification/Training - Preprocessed/Test/W')])\n",
    "\n",
    "from matplotlib import pyplot as plt\n",
    "import numpy as np\n",
    "import cv2\n",
    "import sys\n",
    "\n",
    "X_test1 = []\n",
    "for x in range(len(datat1)):\n",
    "    img = cv2.imread(datat1[x],0)\n",
    "    X_test1.append(img)"
   ]
  },
  {
   "cell_type": "code",
   "execution_count": 4,
   "metadata": {},
   "outputs": [],
   "source": [
    "y_test1 = []\n",
    "y_test1.extend('A' for i in range(164))\n",
    "y_test1.extend('LL' for i in range(171))\n",
    "y_test1.extend('RL' for i in range(141))\n",
    "y_test1.extend('TA' for i in range(155))\n",
    "y_test1.extend('W' for i in range(169))"
   ]
  },
  {
   "cell_type": "code",
   "execution_count": 5,
   "metadata": {},
   "outputs": [
    {
     "name": "stdout",
     "output_type": "stream",
     "text": [
      "RandomForestClassifier()\n"
     ]
    }
   ],
   "source": [
    "from sklearn.ensemble import RandomForestClassifier\n",
    "clf = RandomForestClassifier()\n",
    "print(clf)"
   ]
  },
  {
   "cell_type": "code",
   "execution_count": 6,
   "metadata": {},
   "outputs": [
    {
     "data": {
      "text/plain": [
       "RandomForestClassifier()"
      ]
     },
     "execution_count": 6,
     "metadata": {},
     "output_type": "execute_result"
    }
   ],
   "source": [
    "X_train1 = [s.reshape(s.shape[0]*s.shape[1]) for s in X_train1]\n",
    "X_test1 = [s.reshape(s.shape[0]*s.shape[1]) for s in X_test1]\n",
    "clf.fit(X_train1, y_train1)"
   ]
  },
  {
   "cell_type": "code",
   "execution_count": 7,
   "metadata": {},
   "outputs": [
    {
     "data": {
      "text/plain": [
       "0.245"
      ]
     },
     "execution_count": 7,
     "metadata": {},
     "output_type": "execute_result"
    }
   ],
   "source": [
    "clf.score(X_test1, y_test1)"
   ]
  },
  {
   "cell_type": "code",
   "execution_count": 10,
   "metadata": {},
   "outputs": [
    {
     "data": {
      "text/plain": [
       "0.35125"
      ]
     },
     "execution_count": 10,
     "metadata": {},
     "output_type": "execute_result"
    }
   ],
   "source": [
    "clf_LR = LogisticRegression(C=1, max_iter=3000)\n",
    "clf_LR.fit(X_train1, y_train1)\n",
    "clf_LR.score(X_test1,y_test1)"
   ]
  },
  {
   "cell_type": "code",
   "execution_count": 11,
   "metadata": {},
   "outputs": [
    {
     "name": "stderr",
     "output_type": "stream",
     "text": [
      "C:\\Users\\leona\\anaconda3\\lib\\site-packages\\xgboost\\sklearn.py:1224: UserWarning: The use of label encoder in XGBClassifier is deprecated and will be removed in a future release. To remove this warning, do the following: 1) Pass option use_label_encoder=False when constructing XGBClassifier object; and 2) Encode your labels (y) as integers starting with 0, i.e. 0, 1, 2, ..., [num_class - 1].\n",
      "  warnings.warn(label_encoder_deprecation_msg, UserWarning)\n"
     ]
    },
    {
     "name": "stdout",
     "output_type": "stream",
     "text": [
      "[18:23:08] WARNING: C:/Users/Administrator/workspace/xgboost-win64_release_1.5.1/src/learner.cc:1115: Starting in XGBoost 1.3.0, the default evaluation metric used with the objective 'multi:softprob' was changed from 'merror' to 'mlogloss'. Explicitly set eval_metric if you'd like to restore the old behavior.\n"
     ]
    },
    {
     "data": {
      "text/plain": [
       "0.39375"
      ]
     },
     "execution_count": 11,
     "metadata": {},
     "output_type": "execute_result"
    }
   ],
   "source": [
    "XG_model = xgb.XGBClassifier()\n",
    "XG_model.fit(X_train1, y_train1)\n",
    "XG_model.score(X_test1,y_test1)"
   ]
  },
  {
   "cell_type": "code",
   "execution_count": 12,
   "metadata": {},
   "outputs": [
    {
     "data": {
      "text/plain": [
       "0.215"
      ]
     },
     "execution_count": 12,
     "metadata": {},
     "output_type": "execute_result"
    }
   ],
   "source": [
    "clf_KN = KNeighborsClassifier()\n",
    "clf_KN.fit(X_train1,y_train1)\n",
    "clf_KN.score(X_test1,y_test1)"
   ]
  },
  {
   "cell_type": "code",
   "execution_count": 13,
   "metadata": {},
   "outputs": [
    {
     "data": {
      "text/plain": [
       "0.30625"
      ]
     },
     "execution_count": 13,
     "metadata": {},
     "output_type": "execute_result"
    }
   ],
   "source": [
    "clf_SVC = svm.SVC()\n",
    "clf_SVC.fit(X_train1,y_train1)\n",
    "clf_SVC.score(X_test1,y_test1)"
   ]
  },
  {
   "cell_type": "markdown",
   "metadata": {},
   "source": [
    "## Logistic Regression, SVM, KNN, Random Forest, XGBoost on Preprocessed Data \n",
    "## (w PCA)"
   ]
  },
  {
   "cell_type": "code",
   "execution_count": 14,
   "metadata": {},
   "outputs": [],
   "source": [
    "# PCA - PREPROCESSED IMAGES\n",
    "# extract the images and labels \n",
    "import os\n",
    "data2 = ['C:/Users/leona/OneDrive/DSA4199/NIST-Classification/PCA - Preprocessed/Train/A/' + s for s in os.listdir('C:/Users/leona/OneDrive/DSA4199/NIST-Classification/PCA - Preprocessed/Train/A')]\n",
    "data2.extend(['C:/Users/leona/OneDrive/DSA4199/NIST-Classification/PCA - Preprocessed/Train/LL/' + s for s in os.listdir('C:/Users/leona/OneDrive/DSA4199/NIST-Classification/PCA - Preprocessed/Train/LL')])\n",
    "data2.extend(['C:/Users/leona/OneDrive/DSA4199/NIST-Classification/PCA - Preprocessed/Train/RL/' + s for s in os.listdir('C:/Users/leona/OneDrive/DSA4199/NIST-Classification/PCA - Preprocessed/Train/RL')])\n",
    "data2.extend(['C:/Users/leona/OneDrive/DSA4199/NIST-Classification/PCA - Preprocessed/Train/TA/' + s for s in os.listdir('C:/Users/leona/OneDrive/DSA4199/NIST-Classification/PCA - Preprocessed/Train/TA')])\n",
    "data2.extend(['C:/Users/leona/OneDrive/DSA4199/NIST-Classification/PCA - Preprocessed/Train/W/' + s for s in os.listdir('C:/Users/leona/OneDrive/DSA4199/NIST-Classification/PCA - Preprocessed/Train/W')])\n",
    "\n",
    "from matplotlib import pyplot as plt\n",
    "import numpy as np\n",
    "import cv2\n",
    "import sys\n",
    "\n",
    "X_train2 = []\n",
    "for x in range(len(data2)):\n",
    "    img = cv2.imread(data2[x],0)\n",
    "    X_train2.append(img)"
   ]
  },
  {
   "cell_type": "code",
   "execution_count": 16,
   "metadata": {},
   "outputs": [],
   "source": [
    "y_train2 = []\n",
    "y_train2.extend('A' for i in range(637))\n",
    "y_train2.extend('LL' for i in range(627))\n",
    "y_train2.extend('RL' for i in range(660))\n",
    "y_train2.extend('TA' for i in range(645))\n",
    "y_train2.extend('W' for i in range(630))\n",
    "y_test2 = []\n",
    "y_test2.extend('A' for i in range(164))\n",
    "y_test2.extend('LL' for i in range(171))\n",
    "y_test2.extend('RL' for i in range(141))\n",
    "y_test2.extend('TA' for i in range(155))\n",
    "y_test2.extend('W' for i in range(169))"
   ]
  },
  {
   "cell_type": "code",
   "execution_count": 15,
   "metadata": {},
   "outputs": [],
   "source": [
    "# PCA - Preprocessed Data\n",
    "# extract the images and labels \n",
    "import os\n",
    "datat2 = ['C:/Users/leona/OneDrive/DSA4199/NIST-Classification/PCA - Preprocessed/Test/A/' + s for s in os.listdir('C:/Users/leona/OneDrive/DSA4199/NIST-Classification/PCA - Preprocessed/Test/A')]\n",
    "datat2.extend(['C:/Users/leona/OneDrive/DSA4199/NIST-Classification/PCA - Preprocessed/Test/LL/' + s for s in os.listdir('C:/Users/leona/OneDrive/DSA4199/NIST-Classification/PCA - Preprocessed/Test/LL')])\n",
    "datat2.extend(['C:/Users/leona/OneDrive/DSA4199/NIST-Classification/PCA - Preprocessed/Test/RL/' + s for s in os.listdir('C:/Users/leona/OneDrive/DSA4199/NIST-Classification/PCA - Preprocessed/Test/RL')])\n",
    "datat2.extend(['C:/Users/leona/OneDrive/DSA4199/NIST-Classification/PCA - Preprocessed/Test/TA/' + s for s in os.listdir('C:/Users/leona/OneDrive/DSA4199/NIST-Classification/PCA - Preprocessed/Test/TA')])\n",
    "datat2.extend(['C:/Users/leona/OneDrive/DSA4199/NIST-Classification/PCA - Preprocessed/Test/W/' + s for s in os.listdir('C:/Users/leona/OneDrive/DSA4199/NIST-Classification/PCA - Preprocessed/Test/W')])\n",
    "\n",
    "from matplotlib import pyplot as plt\n",
    "import numpy as np\n",
    "import cv2\n",
    "import sys\n",
    "\n",
    "X_test2 = []\n",
    "for x in range(len(datat2)):\n",
    "    img = cv2.imread(datat2[x],0)\n",
    "    X_test2.append(img)"
   ]
  },
  {
   "cell_type": "code",
   "execution_count": 17,
   "metadata": {},
   "outputs": [
    {
     "name": "stdout",
     "output_type": "stream",
     "text": [
      "RandomForestClassifier()\n"
     ]
    }
   ],
   "source": [
    "from sklearn.ensemble import RandomForestClassifier\n",
    "clf = RandomForestClassifier()\n",
    "print(clf)"
   ]
  },
  {
   "cell_type": "code",
   "execution_count": 18,
   "metadata": {},
   "outputs": [
    {
     "data": {
      "text/plain": [
       "RandomForestClassifier()"
      ]
     },
     "execution_count": 18,
     "metadata": {},
     "output_type": "execute_result"
    }
   ],
   "source": [
    "X_train2 = [s.reshape(s.shape[0]*s.shape[1]) for s in X_train2]\n",
    "X_test2 = [s.reshape(s.shape[0]*s.shape[1]) for s in X_test2]\n",
    "clf.fit(X_train2, y_train2)"
   ]
  },
  {
   "cell_type": "code",
   "execution_count": 19,
   "metadata": {},
   "outputs": [
    {
     "data": {
      "text/plain": [
       "0.2275"
      ]
     },
     "execution_count": 19,
     "metadata": {},
     "output_type": "execute_result"
    }
   ],
   "source": [
    "clf.score(X_test2, y_test2)"
   ]
  },
  {
   "cell_type": "code",
   "execution_count": 20,
   "metadata": {},
   "outputs": [
    {
     "data": {
      "text/plain": [
       "0.3475"
      ]
     },
     "execution_count": 20,
     "metadata": {},
     "output_type": "execute_result"
    }
   ],
   "source": [
    "clf_LR = LogisticRegression(C=1, max_iter=3000)\n",
    "clf_LR.fit(X_train2, y_train2)\n",
    "clf_LR.score(X_test2,y_test2)"
   ]
  },
  {
   "cell_type": "code",
   "execution_count": 21,
   "metadata": {},
   "outputs": [
    {
     "name": "stderr",
     "output_type": "stream",
     "text": [
      "C:\\Users\\leona\\anaconda3\\lib\\site-packages\\xgboost\\sklearn.py:1224: UserWarning: The use of label encoder in XGBClassifier is deprecated and will be removed in a future release. To remove this warning, do the following: 1) Pass option use_label_encoder=False when constructing XGBClassifier object; and 2) Encode your labels (y) as integers starting with 0, i.e. 0, 1, 2, ..., [num_class - 1].\n",
      "  warnings.warn(label_encoder_deprecation_msg, UserWarning)\n"
     ]
    },
    {
     "name": "stdout",
     "output_type": "stream",
     "text": [
      "[20:49:31] WARNING: C:/Users/Administrator/workspace/xgboost-win64_release_1.5.1/src/learner.cc:1115: Starting in XGBoost 1.3.0, the default evaluation metric used with the objective 'multi:softprob' was changed from 'merror' to 'mlogloss'. Explicitly set eval_metric if you'd like to restore the old behavior.\n"
     ]
    },
    {
     "data": {
      "text/plain": [
       "0.2625"
      ]
     },
     "execution_count": 21,
     "metadata": {},
     "output_type": "execute_result"
    }
   ],
   "source": [
    "XG_model = xgb.XGBClassifier()\n",
    "XG_model.fit(X_train2, y_train2)\n",
    "XG_model.score(X_test2,y_test2)"
   ]
  },
  {
   "cell_type": "code",
   "execution_count": 22,
   "metadata": {},
   "outputs": [
    {
     "data": {
      "text/plain": [
       "0.2125"
      ]
     },
     "execution_count": 22,
     "metadata": {},
     "output_type": "execute_result"
    }
   ],
   "source": [
    "clf_KN = KNeighborsClassifier()\n",
    "clf_KN.fit(X_train2,y_train2)\n",
    "clf_KN.score(X_test2,y_test2)"
   ]
  },
  {
   "cell_type": "code",
   "execution_count": 23,
   "metadata": {},
   "outputs": [
    {
     "data": {
      "text/plain": [
       "0.31"
      ]
     },
     "execution_count": 23,
     "metadata": {},
     "output_type": "execute_result"
    }
   ],
   "source": [
    "clf_SVC = svm.SVC()\n",
    "clf_SVC.fit(X_train2,y_train2)\n",
    "clf_SVC.score(X_test2,y_test2)"
   ]
  }
 ],
 "metadata": {
  "kernelspec": {
   "display_name": "Python 3",
   "language": "python",
   "name": "python3"
  },
  "language_info": {
   "codemirror_mode": {
    "name": "ipython",
    "version": 3
   },
   "file_extension": ".py",
   "mimetype": "text/x-python",
   "name": "python",
   "nbconvert_exporter": "python",
   "pygments_lexer": "ipython3",
   "version": "3.8.3"
  }
 },
 "nbformat": 4,
 "nbformat_minor": 4
}
