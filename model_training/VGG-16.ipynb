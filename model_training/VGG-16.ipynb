{
 "cells": [
  {
   "cell_type": "code",
   "execution_count": 1,
   "metadata": {},
   "outputs": [],
   "source": [
    "#import keras,os\n",
    "#from keras.models import Sequential\n",
    "#from keras.layers import Dense, Conv2D, MaxPool2D , Flatten\n",
    "#from keras.preprocessing.image import ImageDataGenerator\n",
    "#import numpy as np"
   ]
  },
  {
   "cell_type": "code",
   "execution_count": 1,
   "metadata": {},
   "outputs": [],
   "source": [
    "#import tensorflow_datasets as tfds\n",
    "from tensorflow.keras.utils import to_categorical\n",
    "import numpy as np \n",
    "import matplotlib.pyplot as plt\n",
    "import glob\n",
    "import cv2\n",
    "import tensorflow.keras\n",
    "from tensorflow.keras.models import Model, Sequential\n",
    "from tensorflow.keras.layers import Dense, Flatten, Conv2D, MaxPooling2D\n",
    "#from tensorflow.keras.layers.normalization import BatchNormalization\n",
    "import os\n",
    "import seaborn as sns\n",
    "from tensorflow.keras.applications.vgg16 import VGG16\n",
    "from skimage.color import gray2rgb\n",
    "\n",
    "SIZE = 256  #Resize images\n",
    "\n",
    "# Extract the training images and labels \n",
    "data = ['C:/Users/leona/OneDrive/DSA4199/NIST-Classification/Training - Preprocessed/Train/A/' + s for s in os.listdir('C:/Users/leona/OneDrive/DSA4199/NIST-Classification/Training - Preprocessed/Train/A')]\n",
    "data.extend(['C:/Users/leona/OneDrive/DSA4199/NIST-Classification/Training - Preprocessed/Train/LL/' + s for s in os.listdir('C:/Users/leona/OneDrive/DSA4199/NIST-Classification/Training - Preprocessed/Train/LL')])\n",
    "data.extend(['C:/Users/leona/OneDrive/DSA4199/NIST-Classification/Training - Preprocessed/Train/RL/' + s for s in os.listdir('C:/Users/leona/OneDrive/DSA4199/NIST-Classification/Training - Preprocessed/Train/RL')])\n",
    "data.extend(['C:/Users/leona/OneDrive/DSA4199/NIST-Classification/Training - Preprocessed/Train/TA/' + s for s in os.listdir('C:/Users/leona/OneDrive/DSA4199/NIST-Classification/Training - Preprocessed/Train/TA')])\n",
    "data.extend(['C:/Users/leona/OneDrive/DSA4199/NIST-Classification/Training - Preprocessed/Train/W/' + s for s in os.listdir('C:/Users/leona/OneDrive/DSA4199/NIST-Classification/Training - Preprocessed/Train/W')])\n",
    "\n",
    "train_images = []\n",
    "for x in range(len(data)):\n",
    "    img = cv2.imread(data[x],0)\n",
    "    test = gray2rgb(img)\n",
    "    test = cv2.resize(test, (256,256), interpolation = cv2.INTER_AREA)\n",
    "    train_images.append(test)\n",
    "    \n",
    "train_labels = []\n",
    "train_labels.extend('A' for i in range(637))\n",
    "train_labels.extend('LL' for i in range(627))\n",
    "train_labels.extend('RL' for i in range(660))\n",
    "train_labels.extend('TA' for i in range(645))\n",
    "train_labels.extend('W' for i in range(630))   \n",
    "\n",
    "#Convert lists to arrays        \n",
    "train_images = np.array(train_images)\n",
    "train_labels = np.array(train_labels)\n",
    "\n",
    "# Extract the test images and labels \n",
    "datat = ['C:/Users/leona/OneDrive/DSA4199/NIST-Classification/Training - Preprocessed/Test/A/' + s for s in os.listdir('C:/Users/leona/OneDrive/DSA4199/NIST-Classification/Training - Preprocessed/Test/A')]\n",
    "datat.extend(['C:/Users/leona/OneDrive/DSA4199/NIST-Classification/Training - Preprocessed/Test/LL/' + s for s in os.listdir('C:/Users/leona/OneDrive/DSA4199/NIST-Classification/Training - Preprocessed/Test/LL')])\n",
    "datat.extend(['C:/Users/leona/OneDrive/DSA4199/NIST-Classification/Training - Preprocessed/Test/RL/' + s for s in os.listdir('C:/Users/leona/OneDrive/DSA4199/NIST-Classification/Training - Preprocessed/Test/RL')])\n",
    "datat.extend(['C:/Users/leona/OneDrive/DSA4199/NIST-Classification/Training - Preprocessed/Test/TA/' + s for s in os.listdir('C:/Users/leona/OneDrive/DSA4199/NIST-Classification/Training - Preprocessed/Test/TA')])\n",
    "datat.extend(['C:/Users/leona/OneDrive/DSA4199/NIST-Classification/Training - Preprocessed/Test/W/' + s for s in os.listdir('C:/Users/leona/OneDrive/DSA4199/NIST-Classification/Training - Preprocessed/Test/W')])\n",
    "\n",
    "test_images = []\n",
    "for x in range(len(datat)):\n",
    "    img = cv2.imread(datat[x],0)\n",
    "    test = gray2rgb(img)\n",
    "    test = cv2.resize(test, (256,256), interpolation = cv2.INTER_AREA)\n",
    "    test_images.append(test)\n",
    "    \n",
    "test_labels = []\n",
    "test_labels.extend('A' for i in range(164))\n",
    "test_labels.extend('LL' for i in range(171))\n",
    "test_labels.extend('RL' for i in range(141))\n",
    "test_labels.extend('TA' for i in range(155))\n",
    "test_labels.extend('W' for i in range(169))    \n",
    "\n",
    "#Convert lists to arrays                \n",
    "test_images = np.array(test_images)\n",
    "test_labels = np.array(test_labels)\n",
    "\n",
    "#Encode labels from text to integers.\n",
    "from sklearn import preprocessing\n",
    "le = preprocessing.LabelEncoder()\n",
    "le.fit(test_labels)\n",
    "test_labels_encoded = le.transform(test_labels)\n",
    "le.fit(train_labels)\n",
    "train_labels_encoded = le.transform(train_labels)\n",
    "\n",
    "#Split data into test and train datasets (already split but assigning to meaningful convention)\n",
    "x_train, y_train, x_test, y_test = train_images, train_labels_encoded, test_images, test_labels_encoded\n",
    "\n",
    "###################################################################\n",
    "# Normalize pixel values to between 0 and 1\n",
    "x_train, x_test = x_train / 255.0, x_test / 255.0\n"
   ]
  },
  {
   "cell_type": "code",
   "execution_count": 2,
   "metadata": {},
   "outputs": [],
   "source": [
    "from tensorflow.keras.applications.vgg16 import VGG16\n",
    "from tensorflow.keras.applications.vgg16 import preprocess_input\n",
    "\n",
    "## Loading VGG16 model\n",
    "base_model = VGG16(weights=\"imagenet\", include_top=False, input_shape=x_train[0].shape)\n",
    "base_model.trainable = False ## Not trainable weights\n",
    "\n",
    "## Preprocessing input\n",
    "#train_ds = preprocess_input(x_train) \n",
    "#test_ds = preprocess_input(x_test)\n",
    "#train_ds = x_train\n",
    "#test_ds = x_test"
   ]
  },
  {
   "cell_type": "code",
   "execution_count": 3,
   "metadata": {},
   "outputs": [
    {
     "name": "stdout",
     "output_type": "stream",
     "text": [
      "Model: \"vgg16\"\n",
      "_________________________________________________________________\n",
      "Layer (type)                 Output Shape              Param #   \n",
      "=================================================================\n",
      "input_1 (InputLayer)         [(None, 256, 256, 3)]     0         \n",
      "_________________________________________________________________\n",
      "block1_conv1 (Conv2D)        (None, 256, 256, 64)      1792      \n",
      "_________________________________________________________________\n",
      "block1_conv2 (Conv2D)        (None, 256, 256, 64)      36928     \n",
      "_________________________________________________________________\n",
      "block1_pool (MaxPooling2D)   (None, 128, 128, 64)      0         \n",
      "_________________________________________________________________\n",
      "block2_conv1 (Conv2D)        (None, 128, 128, 128)     73856     \n",
      "_________________________________________________________________\n",
      "block2_conv2 (Conv2D)        (None, 128, 128, 128)     147584    \n",
      "_________________________________________________________________\n",
      "block2_pool (MaxPooling2D)   (None, 64, 64, 128)       0         \n",
      "_________________________________________________________________\n",
      "block3_conv1 (Conv2D)        (None, 64, 64, 256)       295168    \n",
      "_________________________________________________________________\n",
      "block3_conv2 (Conv2D)        (None, 64, 64, 256)       590080    \n",
      "_________________________________________________________________\n",
      "block3_conv3 (Conv2D)        (None, 64, 64, 256)       590080    \n",
      "_________________________________________________________________\n",
      "block3_pool (MaxPooling2D)   (None, 32, 32, 256)       0         \n",
      "_________________________________________________________________\n",
      "block4_conv1 (Conv2D)        (None, 32, 32, 512)       1180160   \n",
      "_________________________________________________________________\n",
      "block4_conv2 (Conv2D)        (None, 32, 32, 512)       2359808   \n",
      "_________________________________________________________________\n",
      "block4_conv3 (Conv2D)        (None, 32, 32, 512)       2359808   \n",
      "_________________________________________________________________\n",
      "block4_pool (MaxPooling2D)   (None, 16, 16, 512)       0         \n",
      "_________________________________________________________________\n",
      "block5_conv1 (Conv2D)        (None, 16, 16, 512)       2359808   \n",
      "_________________________________________________________________\n",
      "block5_conv2 (Conv2D)        (None, 16, 16, 512)       2359808   \n",
      "_________________________________________________________________\n",
      "block5_conv3 (Conv2D)        (None, 16, 16, 512)       2359808   \n",
      "_________________________________________________________________\n",
      "block5_pool (MaxPooling2D)   (None, 8, 8, 512)         0         \n",
      "=================================================================\n",
      "Total params: 14,714,688\n",
      "Trainable params: 0\n",
      "Non-trainable params: 14,714,688\n",
      "_________________________________________________________________\n"
     ]
    }
   ],
   "source": [
    "base_model.summary()"
   ]
  },
  {
   "cell_type": "code",
   "execution_count": 4,
   "metadata": {},
   "outputs": [],
   "source": [
    "from tensorflow.keras import layers, models\n",
    "\n",
    "flatten_layer = layers.Flatten()\n",
    "dense_layer_1 = layers.Dense(50, activation='relu')\n",
    "dense_layer_2 = layers.Dense(20, activation='relu')\n",
    "prediction_layer = layers.Dense(5, activation='softmax')\n",
    "\n",
    "\n",
    "model = models.Sequential([\n",
    "    base_model,\n",
    "    flatten_layer,\n",
    "    dense_layer_1,\n",
    "    dense_layer_2,\n",
    "    prediction_layer\n",
    "])"
   ]
  },
  {
   "cell_type": "code",
   "execution_count": 5,
   "metadata": {},
   "outputs": [
    {
     "name": "stdout",
     "output_type": "stream",
     "text": [
      "Model: \"sequential\"\n",
      "_________________________________________________________________\n",
      "Layer (type)                 Output Shape              Param #   \n",
      "=================================================================\n",
      "vgg16 (Functional)           (None, 8, 8, 512)         14714688  \n",
      "_________________________________________________________________\n",
      "flatten (Flatten)            (None, 32768)             0         \n",
      "_________________________________________________________________\n",
      "dense (Dense)                (None, 50)                1638450   \n",
      "_________________________________________________________________\n",
      "dense_1 (Dense)              (None, 20)                1020      \n",
      "_________________________________________________________________\n",
      "dense_2 (Dense)              (None, 5)                 105       \n",
      "=================================================================\n",
      "Total params: 16,354,263\n",
      "Trainable params: 1,639,575\n",
      "Non-trainable params: 14,714,688\n",
      "_________________________________________________________________\n"
     ]
    }
   ],
   "source": [
    "model.summary()"
   ]
  },
  {
   "cell_type": "code",
   "execution_count": 5,
   "metadata": {},
   "outputs": [],
   "source": [
    "#One hot encode y values for neural network. \n",
    "from tensorflow.keras.utils import to_categorical\n",
    "y_train = to_categorical(y_train)\n",
    "y_test = to_categorical(y_test)"
   ]
  },
  {
   "cell_type": "code",
   "execution_count": 6,
   "metadata": {},
   "outputs": [
    {
     "name": "stdout",
     "output_type": "stream",
     "text": [
      "Epoch 1/10\n",
      "200/200 [==============================] - 1656s 8s/step - loss: 1.1040 - accuracy: 0.5861 - val_loss: 0.6254 - val_accuracy: 0.7613\n",
      "Epoch 2/10\n",
      "200/200 [==============================] - 1939s 10s/step - loss: 0.5639 - accuracy: 0.7756 - val_loss: 0.4977 - val_accuracy: 0.7775\n",
      "Epoch 3/10\n",
      "200/200 [==============================] - 1357s 7s/step - loss: 0.3844 - accuracy: 0.8537 - val_loss: 0.5405 - val_accuracy: 0.7750\n",
      "Epoch 4/10\n",
      "200/200 [==============================] - 918s 5s/step - loss: 0.3090 - accuracy: 0.8853 - val_loss: 0.3992 - val_accuracy: 0.8450\n",
      "Epoch 5/10\n",
      "200/200 [==============================] - 896s 4s/step - loss: 0.2354 - accuracy: 0.9181 - val_loss: 0.4109 - val_accuracy: 0.8400\n",
      "Epoch 6/10\n",
      "200/200 [==============================] - 1041s 5s/step - loss: 0.2078 - accuracy: 0.9244 - val_loss: 0.4436 - val_accuracy: 0.8388\n",
      "Epoch 7/10\n",
      "200/200 [==============================] - 856s 4s/step - loss: 0.1929 - accuracy: 0.9309 - val_loss: 0.3795 - val_accuracy: 0.8537\n",
      "Epoch 8/10\n",
      "200/200 [==============================] - 855s 4s/step - loss: 0.1266 - accuracy: 0.9578 - val_loss: 0.4367 - val_accuracy: 0.8425\n",
      "Epoch 9/10\n",
      "200/200 [==============================] - 792s 4s/step - loss: 0.1132 - accuracy: 0.9631 - val_loss: 0.4214 - val_accuracy: 0.8512\n",
      "Epoch 10/10\n",
      "200/200 [==============================] - 1167s 6s/step - loss: 0.0971 - accuracy: 0.9672 - val_loss: 0.4322 - val_accuracy: 0.8462\n"
     ]
    }
   ],
   "source": [
    "from tensorflow.keras.callbacks import EarlyStopping\n",
    "#optimizer = tensorflow.keras.optimizers.Adam(lr=0.01)\n",
    "model.compile(\n",
    "    optimizer='adam',\n",
    "    loss='categorical_crossentropy',\n",
    "    metrics=['accuracy'],\n",
    ")\n",
    "\n",
    "\n",
    "es = EarlyStopping(monitor='val_accuracy', mode='max', patience=10,  restore_best_weights=True)\n",
    "\n",
    "r = model.fit(x_train, y_train, epochs=10, validation_data=(x_test,y_test), batch_size=16, callbacks=[es])\n",
    "# model.fit(train_ds, y_train, batch_size=32, epochs=100, callbacks=[es])"
   ]
  },
  {
   "cell_type": "code",
   "execution_count": 7,
   "metadata": {},
   "outputs": [
    {
     "data": {
      "image/png": "[encoded data removed]",
      "text/plain": [
       "<Figure size 432x288 with 1 Axes>"
      ]
     },
     "metadata": {
      "needs_background": "light"
     },
     "output_type": "display_data"
    },
    {
     "data": {
      "image/png": "[encoded data removed]",
      "text/plain": [
       "<Figure size 432x288 with 1 Axes>"
      ]
     },
     "metadata": {
      "needs_background": "light"
     },
     "output_type": "display_data"
    },
    {
     "data": {
      "text/plain": [
       "<Figure size 432x288 with 0 Axes>"
      ]
     },
     "metadata": {},
     "output_type": "display_data"
    }
   ],
   "source": [
    "# loss\n",
    "plt.plot(r.history['loss'], label='train loss')\n",
    "plt.plot(r.history['val_loss'], label='val loss')\n",
    "plt.legend()\n",
    "plt.show()\n",
    "plt.savefig('LossVal_loss')\n",
    "\n",
    "# accuracies\n",
    "plt.plot(r.history['accuracy'], label='train acc')\n",
    "plt.plot(r.history['val_accuracy'], label='val acc')\n",
    "plt.legend()\n",
    "plt.show()\n",
    "plt.savefig('AccVal_acc')"
   ]
  },
  {
   "cell_type": "code",
   "execution_count": 8,
   "metadata": {},
   "outputs": [],
   "source": [
    "model.save('vgg_preprocessed_256_10_16.h5')"
   ]
  },
  {
   "cell_type": "markdown",
   "metadata": {},
   "source": [
    "### Load Model"
   ]
  },
  {
   "cell_type": "code",
   "execution_count": null,
   "metadata": {},
   "outputs": [],
   "source": [
    "model = load_model(\"C:/Users/leona/OneDrive/DSA4199/NIST-Classification/Model-Training/vgg_preprocessed_256_10_16.h5\")"
   ]
  },
  {
   "cell_type": "code",
   "execution_count": null,
   "metadata": {},
   "outputs": [],
   "source": [
    "# Extract the images and labels \n",
    "datat = ['C:/Users/leona/OneDrive/DSA4199/NIST-Classification/Training - Raw - Pepper - 0.15/Preprocessed/Test/A/' + s for s in os.listdir('C:/Users/leona/OneDrive/DSA4199/NIST-Classification/Training - Raw - Pepper - 0.15/Preprocessed/Test/A')]\n",
    "datat.extend(['C:/Users/leona/OneDrive/DSA4199/NIST-Classification/Training - Raw - Pepper - 0.15/Preprocessed/Test/LL/' + s for s in os.listdir('C:/Users/leona/OneDrive/DSA4199/NIST-Classification/Training - Raw - Pepper - 0.15/Preprocessed/Test/LL')])\n",
    "datat.extend(['C:/Users/leona/OneDrive/DSA4199/NIST-Classification/Training - Raw - Pepper - 0.15/Preprocessed/Test/RL/' + s for s in os.listdir('C:/Users/leona/OneDrive/DSA4199/NIST-Classification/Training - Raw - Pepper - 0.15/Preprocessed/Test/RL')])\n",
    "datat.extend(['C:/Users/leona/OneDrive/DSA4199/NIST-Classification/Training - Raw - Pepper - 0.15/Preprocessed/Test/TA/' + s for s in os.listdir('C:/Users/leona/OneDrive/DSA4199/NIST-Classification/Training - Raw - Pepper - 0.15/Preprocessed/Test/TA')])\n",
    "datat.extend(['C:/Users/leona/OneDrive/DSA4199/NIST-Classification/Training - Raw - Pepper - 0.15/Preprocessed/Test/W/' + s for s in os.listdir('C:/Users/leona/OneDrive/DSA4199/NIST-Classification/Training - Raw - Pepper - 0.15/Preprocessed/Test/W')])\n",
    "#datat = ['C:/Users/leona/OneDrive/DSA4199/NIST-Classification/TEST/LEONA/Brown/Preprocessed/' + s for s in os.listdir('C:/Users/leona/OneDrive/DSA4199/NIST-Classification/TEST/LEONA/Brown/Preprocessed')]\n",
    "\n",
    "test_images = []\n",
    "for x in range(len(datat)):\n",
    "    img = cv2.imread(datat[x],0)\n",
    "    test = gray2rgb(img)\n",
    "    test = cv2.resize(test, (256,256), interpolation = cv2.INTER_AREA)\n",
    "    test_images.append(test)\n",
    "    \n",
    "#Convert lists to arrays                \n",
    "x_test = np.array(test_images)\n",
    "x_test = x_test / 255.0\n",
    "\n",
    "predictions = model.predict(x_test)"
   ]
  },
  {
   "cell_type": "code",
   "execution_count": null,
   "metadata": {},
   "outputs": [],
   "source": [
    "fclass = []\n",
    "import numpy as np\n",
    "for i in range(len(predictions)):\n",
    "    ind = np.argmax(predictions[i])\n",
    "    if ind == 0:\n",
    "        fclass.append('A')\n",
    "    elif ind == 1:\n",
    "        fclass.append('LL')\n",
    "    elif ind == 2:\n",
    "        fclass.append('RL')\n",
    "    elif ind == 3:\n",
    "        fclass.append('TA')\n",
    "    elif ind == 4:\n",
    "        fclass.append('W')\n",
    "        "
   ]
  },
  {
   "cell_type": "code",
   "execution_count": null,
   "metadata": {},
   "outputs": [],
   "source": [
    "name = [s for s in os.listdir('C:/Users/leona/OneDrive/DSA4199/NIST-Classification/Training - Raw - Pepper - 0.15/Preprocessed/Test/A')]\n",
    "name.extend([s for s in os.listdir('C:/Users/leona/OneDrive/DSA4199/NIST-Classification/Training - Raw - Pepper - 0.15/Preprocessed/Test/LL')])\n",
    "name.extend([s for s in os.listdir('C:/Users/leona/OneDrive/DSA4199/NIST-Classification/Training - Raw - Pepper - 0.15/Preprocessed/Test/RL')])\n",
    "name.extend([s for s in os.listdir('C:/Users/leona/OneDrive/DSA4199/NIST-Classification/Training - Raw - Pepper - 0.15/Preprocessed/Test/TA')])\n",
    "name.extend([s for s in os.listdir('C:/Users/leona/OneDrive/DSA4199/NIST-Classification/Training - Raw - Pepper - 0.15/Preprocessed/Test/W')])\n",
    "\n",
    "test_labels = []\n",
    "test_labels.extend('A' for i in range(164))\n",
    "test_labels.extend('LL' for i in range(171))\n",
    "test_labels.extend('RL' for i in range(141))\n",
    "test_labels.extend('TA' for i in range(155))\n",
    "test_labels.extend('W' for i in range(169))\n",
    "\n",
    "# importing pandas as pd  \n",
    "import pandas as pd  \n",
    "       \n",
    "df = {'File': name, 'Predicted Class':fclass, 'True Class':test_labels}\n",
    "df = pd.DataFrame(df)\n",
    "# saving the dataframe \n",
    "df.to_csv('Training - Raw - Pepper - 0.15.csv') "
   ]
  }
 ],
 "metadata": {
  "kernelspec": {
   "display_name": "Python 3",
   "language": "python",
   "name": "python3"
  },
  "language_info": {
   "codemirror_mode": {
    "name": "ipython",
    "version": 3
   },
   "file_extension": ".py",
   "mimetype": "text/x-python",
   "name": "python",
   "nbconvert_exporter": "python",
   "pygments_lexer": "ipython3",
   "version": "3.8.3"
  }
 },
 "nbformat": 4,
 "nbformat_minor": 4
}
